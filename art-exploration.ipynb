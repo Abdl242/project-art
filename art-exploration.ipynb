{
 "cells": [
  {
   "cell_type": "code",
   "execution_count": 1,
   "metadata": {},
   "outputs": [],
   "source": [
    "%load_ext autoreload\n",
    "%autoreload 2\n",
    "%matplotlib inline\n",
    "\n",
    "import plotly.express as px\n",
    "import numpy as np\n",
    "import pandas as pd\n",
    "import matplotlib.pyplot as plt\n",
    "import seaborn as sns"
   ]
  },
  {
   "cell_type": "code",
   "execution_count": 2,
   "metadata": {},
   "outputs": [],
   "source": [
    "import glob\n",
    "import random\n",
    "import os\n",
    "from PIL import Image\n",
    "from PIL import ImageFile\n",
    "ImageFile.LOAD_TRUNCATED_IMAGES = True\n",
    "from tensorflow.keras.preprocessing.image import ImageDataGenerator\n",
    "from tensorflow.keras.models import Sequential\n",
    "from  keras.layers import  Dense, Conv2D, MaxPooling2D, Flatten,Dropout\n",
    "from  tensorflow.keras import Input"
   ]
  },
  {
   "cell_type": "code",
   "execution_count": 3,
   "metadata": {},
   "outputs": [],
   "source": [
    "size = (32,32,3)\n",
    "torsize = (32,32)"
   ]
  },
  {
   "cell_type": "code",
   "execution_count": 4,
   "metadata": {},
   "outputs": [],
   "source": [
    "input_image = Input(shape=(100, 100, 3))"
   ]
  },
  {
   "cell_type": "code",
   "execution_count": 5,
   "metadata": {},
   "outputs": [],
   "source": [
    "def prepare_model():\n",
    "    model = Sequential()\n",
    "    model.add(Conv2D(32,kernel_size=(3,3),activation='relu'\n",
    "                     ,input_shape=size,padding='same'\n",
    "                     )\n",
    "              )\n",
    "    model.add(MaxPooling2D(pool_size=(2, 2)))\n",
    "    model.add(Flatten())\n",
    "    model.add(Dense(16, activation='relu'))\n",
    "    model.add(Dense(2, activation='sigmoid'))\n",
    "    model.compile(loss=\"binary_crossentropy\",optimizer=\"adam\",metrics=['accuracy'])\n",
    "    return model"
   ]
  },
  {
   "cell_type": "code",
   "execution_count": null,
   "metadata": {},
   "outputs": [],
   "source": []
  },
  {
   "cell_type": "code",
   "execution_count": 6,
   "metadata": {},
   "outputs": [
    {
     "data": {
      "text/html": [
       "<div>\n",
       "<style scoped>\n",
       "    .dataframe tbody tr th:only-of-type {\n",
       "        vertical-align: middle;\n",
       "    }\n",
       "\n",
       "    .dataframe tbody tr th {\n",
       "        vertical-align: top;\n",
       "    }\n",
       "\n",
       "    .dataframe thead th {\n",
       "        text-align: right;\n",
       "    }\n",
       "</style>\n",
       "<table border=\"1\" class=\"dataframe\">\n",
       "  <thead>\n",
       "    <tr style=\"text-align: right;\">\n",
       "      <th></th>\n",
       "      <th>artist</th>\n",
       "      <th>date</th>\n",
       "      <th>genre</th>\n",
       "      <th>pixelsx</th>\n",
       "      <th>pixelsy</th>\n",
       "      <th>size_bytes</th>\n",
       "      <th>source</th>\n",
       "      <th>style</th>\n",
       "      <th>title</th>\n",
       "      <th>artist_group</th>\n",
       "      <th>in_train</th>\n",
       "      <th>new_filename</th>\n",
       "    </tr>\n",
       "  </thead>\n",
       "  <tbody>\n",
       "    <tr>\n",
       "      <th>0</th>\n",
       "      <td>Barnett Newman</td>\n",
       "      <td>1955.0</td>\n",
       "      <td>abstract</td>\n",
       "      <td>15530.0</td>\n",
       "      <td>6911.0</td>\n",
       "      <td>9201912.0</td>\n",
       "      <td>wikiart</td>\n",
       "      <td>Color Field Painting</td>\n",
       "      <td>Uriel</td>\n",
       "      <td>train_only</td>\n",
       "      <td>True</td>\n",
       "      <td>102257.jpg</td>\n",
       "    </tr>\n",
       "    <tr>\n",
       "      <th>1</th>\n",
       "      <td>Barnett Newman</td>\n",
       "      <td>1950.0</td>\n",
       "      <td>abstract</td>\n",
       "      <td>14559.0</td>\n",
       "      <td>6866.0</td>\n",
       "      <td>8867532.0</td>\n",
       "      <td>wikiart</td>\n",
       "      <td>Color Field Painting</td>\n",
       "      <td>Vir Heroicus Sublimis</td>\n",
       "      <td>train_only</td>\n",
       "      <td>True</td>\n",
       "      <td>75232.jpg</td>\n",
       "    </tr>\n",
       "    <tr>\n",
       "      <th>2</th>\n",
       "      <td>kiri nichol</td>\n",
       "      <td>2013.0</td>\n",
       "      <td>NaN</td>\n",
       "      <td>9003.0</td>\n",
       "      <td>9004.0</td>\n",
       "      <td>1756681.0</td>\n",
       "      <td>NaN</td>\n",
       "      <td>Neoplasticism</td>\n",
       "      <td>NaN</td>\n",
       "      <td>test_only</td>\n",
       "      <td>False</td>\n",
       "      <td>32145.jpg</td>\n",
       "    </tr>\n",
       "    <tr>\n",
       "      <th>3</th>\n",
       "      <td>kiri nichol</td>\n",
       "      <td>2013.0</td>\n",
       "      <td>NaN</td>\n",
       "      <td>9003.0</td>\n",
       "      <td>9004.0</td>\n",
       "      <td>1942046.0</td>\n",
       "      <td>NaN</td>\n",
       "      <td>Neoplasticism</td>\n",
       "      <td>NaN</td>\n",
       "      <td>test_only</td>\n",
       "      <td>False</td>\n",
       "      <td>20304.jpg</td>\n",
       "    </tr>\n",
       "    <tr>\n",
       "      <th>4</th>\n",
       "      <td>kiri nichol</td>\n",
       "      <td>2013.0</td>\n",
       "      <td>NaN</td>\n",
       "      <td>9003.0</td>\n",
       "      <td>9004.0</td>\n",
       "      <td>1526212.0</td>\n",
       "      <td>NaN</td>\n",
       "      <td>Neoplasticism</td>\n",
       "      <td>NaN</td>\n",
       "      <td>test_only</td>\n",
       "      <td>False</td>\n",
       "      <td>836.jpg</td>\n",
       "    </tr>\n",
       "    <tr>\n",
       "      <th>...</th>\n",
       "      <td>...</td>\n",
       "      <td>...</td>\n",
       "      <td>...</td>\n",
       "      <td>...</td>\n",
       "      <td>...</td>\n",
       "      <td>...</td>\n",
       "      <td>...</td>\n",
       "      <td>...</td>\n",
       "      <td>...</td>\n",
       "      <td>...</td>\n",
       "      <td>...</td>\n",
       "      <td>...</td>\n",
       "    </tr>\n",
       "    <tr>\n",
       "      <th>103245</th>\n",
       "      <td>Jackson Pollock</td>\n",
       "      <td>1948.0</td>\n",
       "      <td>abstract</td>\n",
       "      <td>682.0</td>\n",
       "      <td>220.0</td>\n",
       "      <td>96405.0</td>\n",
       "      <td>wikiart</td>\n",
       "      <td>Action painting</td>\n",
       "      <td>Number 13A (Arabesque)</td>\n",
       "      <td>train_and_test</td>\n",
       "      <td>True</td>\n",
       "      <td>25525.jpg</td>\n",
       "    </tr>\n",
       "    <tr>\n",
       "      <th>103246</th>\n",
       "      <td>Bernardo Strozzi</td>\n",
       "      <td>NaN</td>\n",
       "      <td>religious painting</td>\n",
       "      <td>329.0</td>\n",
       "      <td>456.0</td>\n",
       "      <td>127594.0</td>\n",
       "      <td>wikiart</td>\n",
       "      <td>Baroque</td>\n",
       "      <td>St. Francis of Assisi</td>\n",
       "      <td>train_only</td>\n",
       "      <td>True</td>\n",
       "      <td>47038.jpg</td>\n",
       "    </tr>\n",
       "    <tr>\n",
       "      <th>103247</th>\n",
       "      <td>Josef Sima</td>\n",
       "      <td>NaN</td>\n",
       "      <td>landscape</td>\n",
       "      <td>293.0</td>\n",
       "      <td>512.0</td>\n",
       "      <td>102519.0</td>\n",
       "      <td>wikiart</td>\n",
       "      <td>Surrealism</td>\n",
       "      <td>Maisons à la campagne II</td>\n",
       "      <td>train_and_test</td>\n",
       "      <td>False</td>\n",
       "      <td>7680.jpg</td>\n",
       "    </tr>\n",
       "    <tr>\n",
       "      <th>103248</th>\n",
       "      <td>Brett Whiteley</td>\n",
       "      <td>1982.0</td>\n",
       "      <td>marina</td>\n",
       "      <td>293.0</td>\n",
       "      <td>512.0</td>\n",
       "      <td>167423.0</td>\n",
       "      <td>wikiart</td>\n",
       "      <td>NaN</td>\n",
       "      <td>Thebe's Revenge</td>\n",
       "      <td>train_and_test</td>\n",
       "      <td>True</td>\n",
       "      <td>9021.jpg</td>\n",
       "    </tr>\n",
       "    <tr>\n",
       "      <th>103249</th>\n",
       "      <td>Amadeo de Souza-Cardoso</td>\n",
       "      <td>1913</td>\n",
       "      <td>landscape</td>\n",
       "      <td>293.0</td>\n",
       "      <td>512.0</td>\n",
       "      <td>77577.0</td>\n",
       "      <td>wikiart</td>\n",
       "      <td>Cubism</td>\n",
       "      <td>House Manhufe</td>\n",
       "      <td>train_only</td>\n",
       "      <td>True</td>\n",
       "      <td>36564.jpg</td>\n",
       "    </tr>\n",
       "  </tbody>\n",
       "</table>\n",
       "<p>103250 rows × 12 columns</p>\n",
       "</div>"
      ],
      "text/plain": [
       "                         artist    date               genre  pixelsx  pixelsy  \\\n",
       "0                Barnett Newman  1955.0            abstract  15530.0   6911.0   \n",
       "1                Barnett Newman  1950.0            abstract  14559.0   6866.0   \n",
       "2                   kiri nichol  2013.0                 NaN   9003.0   9004.0   \n",
       "3                   kiri nichol  2013.0                 NaN   9003.0   9004.0   \n",
       "4                   kiri nichol  2013.0                 NaN   9003.0   9004.0   \n",
       "...                         ...     ...                 ...      ...      ...   \n",
       "103245          Jackson Pollock  1948.0            abstract    682.0    220.0   \n",
       "103246         Bernardo Strozzi     NaN  religious painting    329.0    456.0   \n",
       "103247               Josef Sima     NaN           landscape    293.0    512.0   \n",
       "103248           Brett Whiteley  1982.0              marina    293.0    512.0   \n",
       "103249  Amadeo de Souza-Cardoso    1913           landscape    293.0    512.0   \n",
       "\n",
       "        size_bytes   source                 style                     title  \\\n",
       "0        9201912.0  wikiart  Color Field Painting                     Uriel   \n",
       "1        8867532.0  wikiart  Color Field Painting     Vir Heroicus Sublimis   \n",
       "2        1756681.0      NaN         Neoplasticism                       NaN   \n",
       "3        1942046.0      NaN         Neoplasticism                       NaN   \n",
       "4        1526212.0      NaN         Neoplasticism                       NaN   \n",
       "...            ...      ...                   ...                       ...   \n",
       "103245     96405.0  wikiart       Action painting    Number 13A (Arabesque)   \n",
       "103246    127594.0  wikiart               Baroque     St. Francis of Assisi   \n",
       "103247    102519.0  wikiart            Surrealism  Maisons à la campagne II   \n",
       "103248    167423.0  wikiart                   NaN           Thebe's Revenge   \n",
       "103249     77577.0  wikiart                Cubism            House Manhufe    \n",
       "\n",
       "          artist_group  in_train new_filename  \n",
       "0           train_only      True   102257.jpg  \n",
       "1           train_only      True    75232.jpg  \n",
       "2            test_only     False    32145.jpg  \n",
       "3            test_only     False    20304.jpg  \n",
       "4            test_only     False      836.jpg  \n",
       "...                ...       ...          ...  \n",
       "103245  train_and_test      True    25525.jpg  \n",
       "103246      train_only      True    47038.jpg  \n",
       "103247  train_and_test     False     7680.jpg  \n",
       "103248  train_and_test      True     9021.jpg  \n",
       "103249      train_only      True    36564.jpg  \n",
       "\n",
       "[103250 rows x 12 columns]"
      ]
     },
     "execution_count": 6,
     "metadata": {},
     "output_type": "execute_result"
    }
   ],
   "source": [
    "df = pd.read_csv('data/all_data_info.csv')\n",
    "df"
   ]
  },
  {
   "cell_type": "code",
   "execution_count": 7,
   "metadata": {},
   "outputs": [],
   "source": [
    "dataset_paths = glob.glob(\"./data/train/*.jpg\")\n",
    "\n"
   ]
  },
  {
   "cell_type": "code",
   "execution_count": 8,
   "metadata": {},
   "outputs": [],
   "source": [
    "df['impath'] = df.new_filename.map(lambda x : f'./data/train/{x}' if f'./data/train/{x}' in dataset_paths else '' )\n"
   ]
  },
  {
   "cell_type": "code",
   "execution_count": 9,
   "metadata": {},
   "outputs": [],
   "source": [
    "df=df[df['impath']!='']"
   ]
  },
  {
   "cell_type": "code",
   "execution_count": 10,
   "metadata": {},
   "outputs": [],
   "source": [
    "df_samp = df.sample(2000)"
   ]
  },
  {
   "cell_type": "code",
   "execution_count": 11,
   "metadata": {},
   "outputs": [],
   "source": [
    "def open_image(pathim):\n",
    "    try:\n",
    "        return np.array(Image.open(pathim).resize(torsize))\n",
    "    except:\n",
    "        return ''"
   ]
  },
  {
   "cell_type": "code",
   "execution_count": 12,
   "metadata": {},
   "outputs": [],
   "source": [
    "df_samp['image'] = df_samp.new_filename.map(lambda x : open_image(f'./data/train/{x}'))"
   ]
  },
  {
   "cell_type": "code",
   "execution_count": 13,
   "metadata": {},
   "outputs": [
    {
     "name": "stderr",
     "output_type": "stream",
     "text": [
      "/Users/abdellatif/.pyenv/versions/3.10.6/envs/lewagon/lib/python3.10/site-packages/pandas/core/ops/array_ops.py:73: FutureWarning: elementwise comparison failed; returning scalar instead, but in the future will perform elementwise comparison\n",
      "  result = libops.scalar_compare(x.ravel(), y, op)\n"
     ]
    }
   ],
   "source": [
    "df_samp =df_samp[df_samp['image']!='']"
   ]
  },
  {
   "cell_type": "code",
   "execution_count": 14,
   "metadata": {},
   "outputs": [],
   "source": [
    "df_samp['image_shape'] = df_samp.image.map(lambda x : x.shape )\n",
    "df_samp= df_samp[df_samp['image_shape']==size]"
   ]
  },
  {
   "cell_type": "code",
   "execution_count": 15,
   "metadata": {},
   "outputs": [
    {
     "data": {
      "text/plain": [
       "(32, 32, 3)    1970\n",
       "Name: image_shape, dtype: int64"
      ]
     },
     "execution_count": 15,
     "metadata": {},
     "output_type": "execute_result"
    }
   ],
   "source": [
    "df_samp['image_shape'].value_counts()"
   ]
  },
  {
   "cell_type": "code",
   "execution_count": 16,
   "metadata": {},
   "outputs": [],
   "source": [
    "batch_size = 16\n",
    "train_input_shape = (224, 224, 3)"
   ]
  },
  {
   "cell_type": "code",
   "execution_count": 17,
   "metadata": {},
   "outputs": [],
   "source": [
    "X= df_samp.image\n",
    "y=df_samp['artist']"
   ]
  },
  {
   "cell_type": "code",
   "execution_count": 18,
   "metadata": {},
   "outputs": [
    {
     "data": {
      "text/plain": [
       "(1477,)"
      ]
     },
     "execution_count": 18,
     "metadata": {},
     "output_type": "execute_result"
    }
   ],
   "source": [
    "from sklearn.model_selection import train_test_split\n",
    "\n",
    "X_train, X_test, y_train, y_test = train_test_split(X, y, random_state=0)\n",
    "np.shape(X_train)"
   ]
  },
  {
   "cell_type": "code",
   "execution_count": 19,
   "metadata": {},
   "outputs": [],
   "source": [
    "from tensorflow.keras.callbacks import EarlyStopping\n",
    "\n",
    "es = EarlyStopping(\n",
    "    monitor='val_loss',\n",
    "    min_delta=0,\n",
    "    patience=4,\n",
    "    verbose=0,\n",
    "    mode='auto',\n",
    "    baseline=None,\n",
    "    restore_best_weights=True\n",
    ")"
   ]
  },
  {
   "cell_type": "code",
   "execution_count": 20,
   "metadata": {},
   "outputs": [],
   "source": [
    "X_train = np.array(list(X_train))"
   ]
  },
  {
   "cell_type": "code",
   "execution_count": 21,
   "metadata": {},
   "outputs": [],
   "source": [
    "# def initialize_model():\n",
    "    \n",
    "#     # $CHALLENGIFY_BEGIN\n",
    "#     model = Sequential()\n",
    "#     model.add(Conv2D(16, (3, 3), activation = 'relu', padding = 'same', input_shape=size))\n",
    "#     model.add(MaxPooling2D((2, 2)))\n",
    "#     model.add(Dropout(0.2))\n",
    "#     model.add(Conv2D(32, (3, 3), activation = 'relu', padding = 'same'))\n",
    "#     model.add(MaxPooling2D((2, 2)))\n",
    "#     model.add(Dropout(0.2))\n",
    "#     model.add(Conv2D(64, (2, 2), activation = 'relu', padding = 'same'))\n",
    "#     model.add(Dropout(0.3))\n",
    "#     model.add(MaxPooling2D((2, 2)))\n",
    "    \n",
    "#     model.add(Flatten())\n",
    "#     model.add(Dense(100, activation = 'relu'))\n",
    "#     model.add(Dropout(0.4))\n",
    "#     model.add(Dense(709, activation = 'softmax'))\n",
    "\n",
    "#     model.compile(loss='categorical_crossentropy',\n",
    "#               optimizer='adam', \n",
    "#               metrics=['accuracy'])\n",
    "    \n",
    "#     # $CHALLENGIFY_END    \n",
    "    \n",
    "#     return model"
   ]
  },
  {
   "cell_type": "code",
   "execution_count": 22,
   "metadata": {},
   "outputs": [],
   "source": [
    "from tensorflow.keras.utils import to_categorical\n",
    "y_train = to_categorical(np.asarray(y_train.factorize()[0]))"
   ]
  },
  {
   "cell_type": "code",
   "execution_count": 23,
   "metadata": {},
   "outputs": [],
   "source": [
    "# model = initialize_model()\n",
    "# model.fit(np.array(X_train)/255, y_train,epochs=50,callbacks=[es],verbose=1,batch_size=32, validation_split=0.2)"
   ]
  },
  {
   "cell_type": "code",
   "execution_count": 24,
   "metadata": {},
   "outputs": [],
   "source": [
    "test=np.array([np.array(Image.open('./data/train/1541.jpg').resize(torsize))])"
   ]
  },
  {
   "cell_type": "code",
   "execution_count": 25,
   "metadata": {},
   "outputs": [
    {
     "ename": "NameError",
     "evalue": "name 'model' is not defined",
     "output_type": "error",
     "traceback": [
      "\u001b[0;31m---------------------------------------------------------------------------\u001b[0m",
      "\u001b[0;31mNameError\u001b[0m                                 Traceback (most recent call last)",
      "Cell \u001b[0;32mIn [25], line 1\u001b[0m\n\u001b[0;32m----> 1\u001b[0m \u001b[43mmodel\u001b[49m\u001b[38;5;241m.\u001b[39mpredict(test)\n",
      "\u001b[0;31mNameError\u001b[0m: name 'model' is not defined"
     ]
    }
   ],
   "source": [
    "model.predict(test)\n"
   ]
  },
  {
   "cell_type": "markdown",
   "metadata": {},
   "source": [
    "## Limiting to most famous painter"
   ]
  },
  {
   "cell_type": "code",
   "execution_count": 26,
   "metadata": {},
   "outputs": [],
   "source": [
    "famous_artists = list(df.artist.value_counts().head(20).keys())"
   ]
  },
  {
   "cell_type": "code",
   "execution_count": 27,
   "metadata": {},
   "outputs": [],
   "source": [
    "df_famous = df[df.artist.isin(famous_artists)]"
   ]
  },
  {
   "cell_type": "code",
   "execution_count": 28,
   "metadata": {},
   "outputs": [
    {
     "data": {
      "text/html": [
       "<div>\n",
       "<style scoped>\n",
       "    .dataframe tbody tr th:only-of-type {\n",
       "        vertical-align: middle;\n",
       "    }\n",
       "\n",
       "    .dataframe tbody tr th {\n",
       "        vertical-align: top;\n",
       "    }\n",
       "\n",
       "    .dataframe thead th {\n",
       "        text-align: right;\n",
       "    }\n",
       "</style>\n",
       "<table border=\"1\" class=\"dataframe\">\n",
       "  <thead>\n",
       "    <tr style=\"text-align: right;\">\n",
       "      <th></th>\n",
       "      <th>artist</th>\n",
       "      <th>date</th>\n",
       "      <th>genre</th>\n",
       "      <th>pixelsx</th>\n",
       "      <th>pixelsy</th>\n",
       "      <th>size_bytes</th>\n",
       "      <th>source</th>\n",
       "      <th>style</th>\n",
       "      <th>title</th>\n",
       "      <th>artist_group</th>\n",
       "      <th>in_train</th>\n",
       "      <th>new_filename</th>\n",
       "      <th>impath</th>\n",
       "    </tr>\n",
       "  </thead>\n",
       "  <tbody>\n",
       "    <tr>\n",
       "      <th>14</th>\n",
       "      <td>Ivan Aivazovsky</td>\n",
       "      <td>1873</td>\n",
       "      <td>marina</td>\n",
       "      <td>7444.0</td>\n",
       "      <td>5811.0</td>\n",
       "      <td>3189597.0</td>\n",
       "      <td>wikiart</td>\n",
       "      <td>Romanticism</td>\n",
       "      <td>Storm at sea</td>\n",
       "      <td>train_and_test</td>\n",
       "      <td>True</td>\n",
       "      <td>99442.jpg</td>\n",
       "      <td>./data/train/99442.jpg</td>\n",
       "    </tr>\n",
       "    <tr>\n",
       "      <th>28</th>\n",
       "      <td>Gustave Dore</td>\n",
       "      <td>1866</td>\n",
       "      <td>religious painting</td>\n",
       "      <td>4915.0</td>\n",
       "      <td>6068.0</td>\n",
       "      <td>29811319.0</td>\n",
       "      <td>wikiart</td>\n",
       "      <td>Romanticism</td>\n",
       "      <td>Death of Eleazer</td>\n",
       "      <td>train_and_test</td>\n",
       "      <td>True</td>\n",
       "      <td>7486.jpg</td>\n",
       "      <td>./data/train/7486.jpg</td>\n",
       "    </tr>\n",
       "    <tr>\n",
       "      <th>82</th>\n",
       "      <td>Ivan Aivazovsky</td>\n",
       "      <td>1850</td>\n",
       "      <td>marina</td>\n",
       "      <td>5815.0</td>\n",
       "      <td>3840.0</td>\n",
       "      <td>16019462.0</td>\n",
       "      <td>wikiart</td>\n",
       "      <td>Romanticism</td>\n",
       "      <td>The Ninth Wave</td>\n",
       "      <td>train_and_test</td>\n",
       "      <td>True</td>\n",
       "      <td>81750.jpg</td>\n",
       "      <td>./data/train/81750.jpg</td>\n",
       "    </tr>\n",
       "    <tr>\n",
       "      <th>112</th>\n",
       "      <td>Rembrandt</td>\n",
       "      <td>NaN</td>\n",
       "      <td>portrait</td>\n",
       "      <td>4032.0</td>\n",
       "      <td>5008.0</td>\n",
       "      <td>1384905.0</td>\n",
       "      <td>wikiart</td>\n",
       "      <td>Baroque</td>\n",
       "      <td>Lady with a Lap Dog</td>\n",
       "      <td>train_and_test</td>\n",
       "      <td>True</td>\n",
       "      <td>40672.jpg</td>\n",
       "      <td>./data/train/40672.jpg</td>\n",
       "    </tr>\n",
       "    <tr>\n",
       "      <th>147</th>\n",
       "      <td>Edgar Degas</td>\n",
       "      <td>1869</td>\n",
       "      <td>interior</td>\n",
       "      <td>5382.0</td>\n",
       "      <td>3349.0</td>\n",
       "      <td>1824204.0</td>\n",
       "      <td>wikiart</td>\n",
       "      <td>Impressionism</td>\n",
       "      <td>Interior (The Rape)</td>\n",
       "      <td>train_and_test</td>\n",
       "      <td>True</td>\n",
       "      <td>95360.jpg</td>\n",
       "      <td>./data/train/95360.jpg</td>\n",
       "    </tr>\n",
       "    <tr>\n",
       "      <th>...</th>\n",
       "      <td>...</td>\n",
       "      <td>...</td>\n",
       "      <td>...</td>\n",
       "      <td>...</td>\n",
       "      <td>...</td>\n",
       "      <td>...</td>\n",
       "      <td>...</td>\n",
       "      <td>...</td>\n",
       "      <td>...</td>\n",
       "      <td>...</td>\n",
       "      <td>...</td>\n",
       "      <td>...</td>\n",
       "      <td>...</td>\n",
       "    </tr>\n",
       "    <tr>\n",
       "      <th>101111</th>\n",
       "      <td>Pyotr Konchalovsky</td>\n",
       "      <td>1928</td>\n",
       "      <td>flower painting</td>\n",
       "      <td>375.0</td>\n",
       "      <td>450.0</td>\n",
       "      <td>42300.0</td>\n",
       "      <td>wikiart</td>\n",
       "      <td>Post-Impressionism</td>\n",
       "      <td>Still Life. Orchids.</td>\n",
       "      <td>train_and_test</td>\n",
       "      <td>True</td>\n",
       "      <td>84241.jpg</td>\n",
       "      <td>./data/train/84241.jpg</td>\n",
       "    </tr>\n",
       "    <tr>\n",
       "      <th>101112</th>\n",
       "      <td>Pyotr Konchalovsky</td>\n",
       "      <td>1928</td>\n",
       "      <td>cityscape</td>\n",
       "      <td>450.0</td>\n",
       "      <td>375.0</td>\n",
       "      <td>36427.0</td>\n",
       "      <td>wikiart</td>\n",
       "      <td>Post-Impressionism</td>\n",
       "      <td>Novgorod. Kukui Tower.</td>\n",
       "      <td>train_and_test</td>\n",
       "      <td>True</td>\n",
       "      <td>41406.jpg</td>\n",
       "      <td>./data/train/41406.jpg</td>\n",
       "    </tr>\n",
       "    <tr>\n",
       "      <th>101114</th>\n",
       "      <td>Pyotr Konchalovsky</td>\n",
       "      <td>1932</td>\n",
       "      <td>still life</td>\n",
       "      <td>450.0</td>\n",
       "      <td>375.0</td>\n",
       "      <td>51658.0</td>\n",
       "      <td>wikiart</td>\n",
       "      <td>Realism</td>\n",
       "      <td>Still Life with a fly. Every victuals.</td>\n",
       "      <td>train_and_test</td>\n",
       "      <td>True</td>\n",
       "      <td>13943.jpg</td>\n",
       "      <td>./data/train/13943.jpg</td>\n",
       "    </tr>\n",
       "    <tr>\n",
       "      <th>101176</th>\n",
       "      <td>Pyotr Konchalovsky</td>\n",
       "      <td>1908</td>\n",
       "      <td>portrait</td>\n",
       "      <td>374.0</td>\n",
       "      <td>450.0</td>\n",
       "      <td>50917.0</td>\n",
       "      <td>wikiart</td>\n",
       "      <td>Post-Impressionism</td>\n",
       "      <td>Paris. The boy with the apple. (Portrait of Mi...</td>\n",
       "      <td>train_and_test</td>\n",
       "      <td>True</td>\n",
       "      <td>101511.jpg</td>\n",
       "      <td>./data/train/101511.jpg</td>\n",
       "    </tr>\n",
       "    <tr>\n",
       "      <th>101180</th>\n",
       "      <td>Pyotr Konchalovsky</td>\n",
       "      <td>1923</td>\n",
       "      <td>portrait</td>\n",
       "      <td>450.0</td>\n",
       "      <td>374.0</td>\n",
       "      <td>43756.0</td>\n",
       "      <td>wikiart</td>\n",
       "      <td>Realism</td>\n",
       "      <td>The night watchman with a dog (Ivan Payala)</td>\n",
       "      <td>train_and_test</td>\n",
       "      <td>True</td>\n",
       "      <td>48670.jpg</td>\n",
       "      <td>./data/train/48670.jpg</td>\n",
       "    </tr>\n",
       "  </tbody>\n",
       "</table>\n",
       "<p>6453 rows × 13 columns</p>\n",
       "</div>"
      ],
      "text/plain": [
       "                    artist  date               genre  pixelsx  pixelsy  \\\n",
       "14         Ivan Aivazovsky  1873              marina   7444.0   5811.0   \n",
       "28            Gustave Dore  1866  religious painting   4915.0   6068.0   \n",
       "82         Ivan Aivazovsky  1850              marina   5815.0   3840.0   \n",
       "112              Rembrandt   NaN            portrait   4032.0   5008.0   \n",
       "147            Edgar Degas  1869            interior   5382.0   3349.0   \n",
       "...                    ...   ...                 ...      ...      ...   \n",
       "101111  Pyotr Konchalovsky  1928     flower painting    375.0    450.0   \n",
       "101112  Pyotr Konchalovsky  1928           cityscape    450.0    375.0   \n",
       "101114  Pyotr Konchalovsky  1932          still life    450.0    375.0   \n",
       "101176  Pyotr Konchalovsky  1908            portrait    374.0    450.0   \n",
       "101180  Pyotr Konchalovsky  1923            portrait    450.0    374.0   \n",
       "\n",
       "        size_bytes   source               style  \\\n",
       "14       3189597.0  wikiart         Romanticism   \n",
       "28      29811319.0  wikiart         Romanticism   \n",
       "82      16019462.0  wikiart         Romanticism   \n",
       "112      1384905.0  wikiart             Baroque   \n",
       "147      1824204.0  wikiart       Impressionism   \n",
       "...            ...      ...                 ...   \n",
       "101111     42300.0  wikiart  Post-Impressionism   \n",
       "101112     36427.0  wikiart  Post-Impressionism   \n",
       "101114     51658.0  wikiart             Realism   \n",
       "101176     50917.0  wikiart  Post-Impressionism   \n",
       "101180     43756.0  wikiart             Realism   \n",
       "\n",
       "                                                    title    artist_group  \\\n",
       "14                                           Storm at sea  train_and_test   \n",
       "28                                       Death of Eleazer  train_and_test   \n",
       "82                                         The Ninth Wave  train_and_test   \n",
       "112                                   Lady with a Lap Dog  train_and_test   \n",
       "147                                   Interior (The Rape)  train_and_test   \n",
       "...                                                   ...             ...   \n",
       "101111                               Still Life. Orchids.  train_and_test   \n",
       "101112                             Novgorod. Kukui Tower.  train_and_test   \n",
       "101114             Still Life with a fly. Every victuals.  train_and_test   \n",
       "101176  Paris. The boy with the apple. (Portrait of Mi...  train_and_test   \n",
       "101180        The night watchman with a dog (Ivan Payala)  train_and_test   \n",
       "\n",
       "        in_train new_filename                   impath  \n",
       "14          True    99442.jpg   ./data/train/99442.jpg  \n",
       "28          True     7486.jpg    ./data/train/7486.jpg  \n",
       "82          True    81750.jpg   ./data/train/81750.jpg  \n",
       "112         True    40672.jpg   ./data/train/40672.jpg  \n",
       "147         True    95360.jpg   ./data/train/95360.jpg  \n",
       "...          ...          ...                      ...  \n",
       "101111      True    84241.jpg   ./data/train/84241.jpg  \n",
       "101112      True    41406.jpg   ./data/train/41406.jpg  \n",
       "101114      True    13943.jpg   ./data/train/13943.jpg  \n",
       "101176      True   101511.jpg  ./data/train/101511.jpg  \n",
       "101180      True    48670.jpg   ./data/train/48670.jpg  \n",
       "\n",
       "[6453 rows x 13 columns]"
      ]
     },
     "execution_count": 28,
     "metadata": {},
     "output_type": "execute_result"
    }
   ],
   "source": [
    "df_famous"
   ]
  },
  {
   "cell_type": "code",
   "execution_count": 29,
   "metadata": {},
   "outputs": [
    {
     "name": "stderr",
     "output_type": "stream",
     "text": [
      "/var/folders/bs/_70c1r1x1276_9vpf7t82hdr0000gn/T/ipykernel_81463/1592678099.py:1: SettingWithCopyWarning: \n",
      "A value is trying to be set on a copy of a slice from a DataFrame.\n",
      "Try using .loc[row_indexer,col_indexer] = value instead\n",
      "\n",
      "See the caveats in the documentation: https://pandas.pydata.org/pandas-docs/stable/user_guide/indexing.html#returning-a-view-versus-a-copy\n",
      "  df_famous['image'] = df_famous.new_filename.map(lambda x :open_image(f'./data/train/{x}'))\n"
     ]
    }
   ],
   "source": [
    "df_famous['image'] = df_famous.new_filename.map(lambda x :open_image(f'./data/train/{x}'))"
   ]
  },
  {
   "cell_type": "code",
   "execution_count": 30,
   "metadata": {},
   "outputs": [
    {
     "name": "stderr",
     "output_type": "stream",
     "text": [
      "/Users/abdellatif/.pyenv/versions/3.10.6/envs/lewagon/lib/python3.10/site-packages/pandas/core/ops/array_ops.py:73: FutureWarning: elementwise comparison failed; returning scalar instead, but in the future will perform elementwise comparison\n",
      "  result = libops.scalar_compare(x.ravel(), y, op)\n",
      "/var/folders/bs/_70c1r1x1276_9vpf7t82hdr0000gn/T/ipykernel_81463/2969055932.py:2: SettingWithCopyWarning: \n",
      "A value is trying to be set on a copy of a slice from a DataFrame.\n",
      "Try using .loc[row_indexer,col_indexer] = value instead\n",
      "\n",
      "See the caveats in the documentation: https://pandas.pydata.org/pandas-docs/stable/user_guide/indexing.html#returning-a-view-versus-a-copy\n",
      "  df_famous['image_shape'] = df_famous.image.map(lambda x : x.shape )\n"
     ]
    }
   ],
   "source": [
    "df_famous=df_famous[df_famous['image']!='']\n",
    "df_famous['image_shape'] = df_famous.image.map(lambda x : x.shape )\n",
    "df_famous= df_famous[df_famous['image_shape']==size]"
   ]
  },
  {
   "cell_type": "code",
   "execution_count": 31,
   "metadata": {},
   "outputs": [],
   "source": [
    "X= df_famous.image\n",
    "y=df_famous['artist']"
   ]
  },
  {
   "cell_type": "code",
   "execution_count": 32,
   "metadata": {},
   "outputs": [],
   "source": [
    "X_train, X_test, y_train, y_test = train_test_split(X, y, random_state=0)"
   ]
  },
  {
   "cell_type": "code",
   "execution_count": 33,
   "metadata": {},
   "outputs": [],
   "source": [
    "X_train = np.array(list(X_train))\n",
    "y_train = to_categorical(np.asarray(y_train.factorize()[0]))"
   ]
  },
  {
   "cell_type": "code",
   "execution_count": 34,
   "metadata": {},
   "outputs": [],
   "source": [
    "def model_20():\n",
    "    \n",
    "    # $CHALLENGIFY_BEGIN\n",
    "    model = Sequential()\n",
    "    model.add(Conv2D(16, (3, 3), activation = 'relu', padding = 'same', input_shape=size))\n",
    "    model.add(MaxPooling2D((2, 2)))\n",
    "    model.add(Dropout(0.2))\n",
    "    model.add(Conv2D(32, (3, 3), activation = 'relu', padding = 'same'))\n",
    "    model.add(MaxPooling2D((2, 2)))\n",
    "    model.add(Dropout(0.2))\n",
    "    model.add(Conv2D(64, (2, 2), activation = 'relu', padding = 'same'))\n",
    "    model.add(Dropout(0.3))\n",
    "    model.add(MaxPooling2D((2, 2)))\n",
    "    \n",
    "    model.add(Flatten())\n",
    "    model.add(Dense(100, activation = 'relu'))\n",
    "    model.add(Dropout(0.4))\n",
    "    model.add(Dense(20, activation = 'softmax'))\n",
    "\n",
    "    model.compile(loss='categorical_crossentropy',\n",
    "              optimizer='adam', \n",
    "              metrics=['accuracy'])\n",
    "    \n",
    "    # $CHALLENGIFY_END    \n",
    "    \n",
    "    return model"
   ]
  },
  {
   "cell_type": "code",
   "execution_count": 35,
   "metadata": {},
   "outputs": [
    {
     "name": "stdout",
     "output_type": "stream",
     "text": [
      "Epoch 1/50\n"
     ]
    },
    {
     "name": "stderr",
     "output_type": "stream",
     "text": [
      "2022-10-19 14:24:19.801910: W tensorflow/core/platform/profile_utils/cpu_utils.cc:128] Failed to get CPU frequency: 0 Hz\n"
     ]
    },
    {
     "name": "stdout",
     "output_type": "stream",
     "text": [
      "119/119 [==============================] - 2s 9ms/step - loss: 2.9776 - accuracy: 0.0733 - val_loss: 2.9134 - val_accuracy: 0.1069\n",
      "Epoch 2/50\n",
      "119/119 [==============================] - 1s 8ms/step - loss: 2.8264 - accuracy: 0.1342 - val_loss: 2.7841 - val_accuracy: 0.1725\n",
      "Epoch 3/50\n",
      "119/119 [==============================] - 1s 8ms/step - loss: 2.6562 - accuracy: 0.1922 - val_loss: 2.6365 - val_accuracy: 0.2116\n",
      "Epoch 4/50\n",
      "119/119 [==============================] - 1s 8ms/step - loss: 2.5403 - accuracy: 0.2182 - val_loss: 2.5497 - val_accuracy: 0.2476\n",
      "Epoch 5/50\n",
      "119/119 [==============================] - 1s 8ms/step - loss: 2.4510 - accuracy: 0.2505 - val_loss: 2.4780 - val_accuracy: 0.2984\n",
      "Epoch 6/50\n",
      "119/119 [==============================] - 1s 10ms/step - loss: 2.3604 - accuracy: 0.2727 - val_loss: 2.3740 - val_accuracy: 0.2847\n",
      "Epoch 7/50\n",
      "119/119 [==============================] - 1s 8ms/step - loss: 2.3609 - accuracy: 0.2679 - val_loss: 2.3955 - val_accuracy: 0.3122\n",
      "Epoch 8/50\n",
      "119/119 [==============================] - 1s 8ms/step - loss: 2.2840 - accuracy: 0.2934 - val_loss: 2.2838 - val_accuracy: 0.3418\n",
      "Epoch 9/50\n",
      "119/119 [==============================] - 1s 8ms/step - loss: 2.2397 - accuracy: 0.3063 - val_loss: 2.2437 - val_accuracy: 0.3323\n",
      "Epoch 10/50\n",
      "119/119 [==============================] - 1s 9ms/step - loss: 2.1943 - accuracy: 0.3119 - val_loss: 2.2231 - val_accuracy: 0.3397\n",
      "Epoch 11/50\n",
      "119/119 [==============================] - 1s 8ms/step - loss: 2.1458 - accuracy: 0.3344 - val_loss: 2.1590 - val_accuracy: 0.3651\n",
      "Epoch 12/50\n",
      "119/119 [==============================] - 1s 8ms/step - loss: 2.1081 - accuracy: 0.3487 - val_loss: 2.1847 - val_accuracy: 0.3608\n",
      "Epoch 13/50\n",
      "119/119 [==============================] - 1s 8ms/step - loss: 2.0892 - accuracy: 0.3548 - val_loss: 2.1537 - val_accuracy: 0.3598\n",
      "Epoch 14/50\n",
      "119/119 [==============================] - 1s 8ms/step - loss: 2.0540 - accuracy: 0.3566 - val_loss: 2.1301 - val_accuracy: 0.3820\n",
      "Epoch 15/50\n",
      "119/119 [==============================] - 1s 9ms/step - loss: 2.0407 - accuracy: 0.3635 - val_loss: 2.1033 - val_accuracy: 0.3873\n",
      "Epoch 16/50\n",
      "119/119 [==============================] - 1s 8ms/step - loss: 2.0237 - accuracy: 0.3738 - val_loss: 2.0822 - val_accuracy: 0.3725\n",
      "Epoch 17/50\n",
      "119/119 [==============================] - 1s 9ms/step - loss: 1.9566 - accuracy: 0.3834 - val_loss: 2.0774 - val_accuracy: 0.3831\n",
      "Epoch 18/50\n",
      "119/119 [==============================] - 1s 9ms/step - loss: 1.9481 - accuracy: 0.3876 - val_loss: 2.0730 - val_accuracy: 0.3788\n",
      "Epoch 19/50\n",
      "119/119 [==============================] - 1s 9ms/step - loss: 1.9343 - accuracy: 0.3820 - val_loss: 2.0796 - val_accuracy: 0.3714\n",
      "Epoch 20/50\n",
      "119/119 [==============================] - 1s 9ms/step - loss: 1.9118 - accuracy: 0.4035 - val_loss: 2.0960 - val_accuracy: 0.3587\n",
      "Epoch 21/50\n",
      "119/119 [==============================] - 1s 9ms/step - loss: 1.8733 - accuracy: 0.4032 - val_loss: 1.9822 - val_accuracy: 0.4127\n",
      "Epoch 22/50\n",
      "119/119 [==============================] - 1s 9ms/step - loss: 1.8742 - accuracy: 0.4151 - val_loss: 2.0043 - val_accuracy: 0.3979\n",
      "Epoch 23/50\n",
      "119/119 [==============================] - 1s 9ms/step - loss: 1.8216 - accuracy: 0.4167 - val_loss: 1.9729 - val_accuracy: 0.4138\n",
      "Epoch 24/50\n",
      "119/119 [==============================] - 1s 9ms/step - loss: 1.8211 - accuracy: 0.4241 - val_loss: 1.9764 - val_accuracy: 0.4190\n",
      "Epoch 25/50\n",
      "119/119 [==============================] - 1s 9ms/step - loss: 1.8188 - accuracy: 0.4310 - val_loss: 1.9830 - val_accuracy: 0.4106\n",
      "Epoch 26/50\n",
      "119/119 [==============================] - 1s 9ms/step - loss: 1.7966 - accuracy: 0.4363 - val_loss: 1.9974 - val_accuracy: 0.3989\n",
      "Epoch 27/50\n",
      "119/119 [==============================] - 1s 9ms/step - loss: 1.7764 - accuracy: 0.4493 - val_loss: 1.9628 - val_accuracy: 0.4021\n",
      "Epoch 28/50\n",
      "119/119 [==============================] - 1s 9ms/step - loss: 1.7460 - accuracy: 0.4400 - val_loss: 1.9280 - val_accuracy: 0.4317\n",
      "Epoch 29/50\n",
      "119/119 [==============================] - 1s 10ms/step - loss: 1.7425 - accuracy: 0.4456 - val_loss: 1.9374 - val_accuracy: 0.4127\n",
      "Epoch 30/50\n",
      "119/119 [==============================] - 1s 9ms/step - loss: 1.7138 - accuracy: 0.4522 - val_loss: 1.9347 - val_accuracy: 0.4296\n",
      "Epoch 31/50\n",
      "119/119 [==============================] - 1s 9ms/step - loss: 1.7059 - accuracy: 0.4612 - val_loss: 1.8928 - val_accuracy: 0.4254\n",
      "Epoch 32/50\n",
      "119/119 [==============================] - 1s 9ms/step - loss: 1.7201 - accuracy: 0.4506 - val_loss: 1.9826 - val_accuracy: 0.3873\n",
      "Epoch 33/50\n",
      "119/119 [==============================] - 1s 9ms/step - loss: 1.7705 - accuracy: 0.4358 - val_loss: 1.9203 - val_accuracy: 0.4286\n",
      "Epoch 34/50\n",
      "119/119 [==============================] - 1s 9ms/step - loss: 1.6856 - accuracy: 0.4678 - val_loss: 1.9988 - val_accuracy: 0.3767\n",
      "Epoch 35/50\n",
      "119/119 [==============================] - 1s 9ms/step - loss: 1.6506 - accuracy: 0.4760 - val_loss: 2.0115 - val_accuracy: 0.3778\n"
     ]
    }
   ],
   "source": [
    "model = model_20()\n",
    "history = model.fit(np.array(X_train)/255, y_train,epochs=50,callbacks=[es],verbose=1,batch_size=32, validation_split=0.2)"
   ]
  },
  {
   "cell_type": "code",
   "execution_count": 36,
   "metadata": {},
   "outputs": [],
   "source": [
    "def plot_history(history, title='', axs=None, exp_name=\"\"):\n",
    "    if axs is not None:\n",
    "        ax1, ax2 = axs\n",
    "    else:\n",
    "        f, (ax1, ax2) = plt.subplots(1, 2, figsize=(12, 4))\n",
    "    \n",
    "    if len(exp_name) > 0 and exp_name[0] != '_':\n",
    "        exp_name = '_' + exp_name\n",
    "    ax1.plot(history.history['loss'], label = 'train' + exp_name)\n",
    "    ax1.plot(history.history['val_loss'], label = 'val' + exp_name)\n",
    "    #ax1.set_ylim(0., 2.2)\n",
    "    ax1.set_title('loss')\n",
    "    ax1.legend()\n",
    "\n",
    "    ax2.plot(history.history['accuracy'], label='train accuracy'  + exp_name)\n",
    "    ax2.plot(history.history['val_accuracy'], label='val accuracy'  + exp_name)\n",
    "    ax2.set_ylim(0.25, 1.)\n",
    "    ax2.set_title('Accuracy')\n",
    "    ax2.legend()\n",
    "    return (ax1, ax2)"
   ]
  },
  {
   "cell_type": "code",
   "execution_count": 37,
   "metadata": {},
   "outputs": [
    {
     "data": {
      "text/plain": [
       "(<AxesSubplot:title={'center':'loss'}>,\n",
       " <AxesSubplot:title={'center':'Accuracy'}>)"
      ]
     },
     "execution_count": 37,
     "metadata": {},
     "output_type": "execute_result"
    },
    {
     "data": {
      "image/png": "[encoded data removed]",
      "text/plain": [
       "<Figure size 1200x400 with 2 Axes>"
      ]
     },
     "metadata": {},
     "output_type": "display_data"
    }
   ],
   "source": [
    "plot_history(history)"
   ]
  },
  {
   "cell_type": "code",
   "execution_count": 38,
   "metadata": {},
   "outputs": [],
   "source": [
    "test = np.array([np.array(Image.open('./data/test/cmonet.jpg').resize(torsize))])\n"
   ]
  },
  {
   "cell_type": "code",
   "execution_count": 39,
   "metadata": {},
   "outputs": [
    {
     "data": {
      "text/plain": [
       "(1, 32, 32, 3)"
      ]
     },
     "execution_count": 39,
     "metadata": {},
     "output_type": "execute_result"
    }
   ],
   "source": [
    "test.shape"
   ]
  },
  {
   "cell_type": "code",
   "execution_count": 40,
   "metadata": {},
   "outputs": [
    {
     "name": "stdout",
     "output_type": "stream",
     "text": [
      "1/1 [==============================] - 0s 56ms/step\n"
     ]
    },
    {
     "data": {
      "text/plain": [
       "'Theophile Steinlen'"
      ]
     },
     "execution_count": 40,
     "metadata": {},
     "output_type": "execute_result"
    }
   ],
   "source": [
    "famous_artists[np.argmax(model.predict(test))]\n"
   ]
  },
  {
   "cell_type": "code",
   "execution_count": 41,
   "metadata": {},
   "outputs": [
    {
     "data": {
      "text/plain": [
       "['Paul Cezanne',\n",
       " 'Ilya Repin',\n",
       " 'Edgar Degas',\n",
       " 'Boris Kustodiev',\n",
       " 'Giovanni Battista Piranesi',\n",
       " 'Vincent van Gogh',\n",
       " 'Pyotr Konchalovsky',\n",
       " 'Martiros Saryan',\n",
       " 'Childe Hassam',\n",
       " 'John Singer Sargent',\n",
       " 'Gustave Dore',\n",
       " 'Theophile Steinlen',\n",
       " 'Camille Pissarro',\n",
       " 'Albrecht Durer',\n",
       " 'Pierre-Auguste Renoir',\n",
       " 'Ivan Aivazovsky',\n",
       " 'Eugene Boudin',\n",
       " 'Rembrandt',\n",
       " 'Pablo Picasso',\n",
       " 'Zdislav Beksinski']"
      ]
     },
     "execution_count": 41,
     "metadata": {},
     "output_type": "execute_result"
    }
   ],
   "source": [
    "famous_artists"
   ]
  },
  {
   "cell_type": "markdown",
   "metadata": {},
   "source": [
    "## Data augmentation"
   ]
  },
  {
   "cell_type": "code",
   "execution_count": 42,
   "metadata": {},
   "outputs": [
    {
     "data": {
      "text/plain": [
       "<keras.preprocessing.image.ImageDataGenerator at 0x2943775b0>"
      ]
     },
     "execution_count": 42,
     "metadata": {},
     "output_type": "execute_result"
    }
   ],
   "source": [
    "\n",
    "datagen = ImageDataGenerator(\n",
    "    featurewise_center = False,\n",
    "    featurewise_std_normalization = False,\n",
    "    rotation_range = 10,\n",
    "    width_shift_range = 0.1,\n",
    "    height_shift_range = 0.1,\n",
    "    horizontal_flip = True,\n",
    "    zoom_range = (0.8, 1.2),\n",
    "    ) \n",
    "\n",
    "datagen.fit(X_train)\n",
    "datagen"
   ]
  },
  {
   "cell_type": "code",
   "execution_count": 43,
   "metadata": {},
   "outputs": [
    {
     "data": {
      "text/plain": [
       "3777.6000000000004"
      ]
     },
     "execution_count": 43,
     "metadata": {},
     "output_type": "execute_result"
    }
   ],
   "source": [
    "len(X_train)*.8"
   ]
  },
  {
   "cell_type": "code",
   "execution_count": 46,
   "metadata": {},
   "outputs": [
    {
     "name": "stdout",
     "output_type": "stream",
     "text": [
      "Epoch 1/50\n",
      "60/60 [==============================] - 2s 18ms/step - loss: 10.4410 - accuracy: 0.0530 - val_loss: 2.9974 - val_accuracy: 0.0381\n",
      "Epoch 2/50\n",
      "60/60 [==============================] - 1s 16ms/step - loss: 2.9962 - accuracy: 0.0537 - val_loss: 2.9958 - val_accuracy: 0.0455\n",
      "Epoch 3/50\n",
      "60/60 [==============================] - 1s 17ms/step - loss: 2.9953 - accuracy: 0.0551 - val_loss: 2.9952 - val_accuracy: 0.0455\n",
      "Epoch 4/50\n",
      "60/60 [==============================] - 1s 17ms/step - loss: 2.9936 - accuracy: 0.0519 - val_loss: 2.9945 - val_accuracy: 0.0455\n",
      "Epoch 5/50\n",
      "60/60 [==============================] - 1s 16ms/step - loss: 2.9936 - accuracy: 0.0548 - val_loss: 2.9945 - val_accuracy: 0.0519\n",
      "Epoch 6/50\n",
      "60/60 [==============================] - 1s 18ms/step - loss: 2.9924 - accuracy: 0.0553 - val_loss: 2.9942 - val_accuracy: 0.0519\n",
      "Epoch 7/50\n",
      "60/60 [==============================] - 1s 17ms/step - loss: 2.9934 - accuracy: 0.0506 - val_loss: 2.9945 - val_accuracy: 0.0519\n",
      "Epoch 8/50\n",
      "60/60 [==============================] - 1s 16ms/step - loss: 2.9919 - accuracy: 0.0553 - val_loss: 2.9944 - val_accuracy: 0.0519\n",
      "Epoch 9/50\n",
      "60/60 [==============================] - 1s 16ms/step - loss: 2.9911 - accuracy: 0.0553 - val_loss: 2.9944 - val_accuracy: 0.0519\n",
      "Epoch 10/50\n",
      "60/60 [==============================] - 1s 17ms/step - loss: 2.9912 - accuracy: 0.0553 - val_loss: 2.9947 - val_accuracy: 0.0519\n"
     ]
    }
   ],
   "source": [
    "X_tr = X_train[:3777]\n",
    "y_tr = y_train[:3777]\n",
    "X_val = X_train[3777:]\n",
    "y_val = y_train[3777:]\n",
    "\n",
    "\n",
    "train_flow = datagen.flow(X_tr, y_tr, batch_size = 64)\n",
    "\n",
    "model = model_20()\n",
    "\n",
    "# The fit\n",
    "history_aug = model.fit(train_flow, \n",
    "                        epochs = 50, \n",
    "                        callbacks = [es], \n",
    "                        validation_data = (X_val, y_val))"
   ]
  },
  {
   "cell_type": "code",
   "execution_count": 47,
   "metadata": {},
   "outputs": [
    {
     "data": {
      "text/plain": [
       "(<AxesSubplot:title={'center':'loss'}>,\n",
       " <AxesSubplot:title={'center':'Accuracy'}>)"
      ]
     },
     "execution_count": 47,
     "metadata": {},
     "output_type": "execute_result"
    },
    {
     "data": {
      "image/png": "[encoded data removed]",
      "text/plain": [
       "<Figure size 1200x400 with 2 Axes>"
      ]
     },
     "metadata": {},
     "output_type": "display_data"
    }
   ],
   "source": [
    "plot_history(history_aug)"
   ]
  },
  {
   "cell_type": "markdown",
   "metadata": {},
   "source": [
    "## Get Picasso\n"
   ]
  },
  {
   "cell_type": "code",
   "execution_count": 60,
   "metadata": {},
   "outputs": [],
   "source": [
    "df_famous['PabloPicasso'] = df_famous.artist.map(lambda x : 1 if x=='Pablo Picasso' else 0 )"
   ]
  },
  {
   "cell_type": "code",
   "execution_count": 62,
   "metadata": {},
   "outputs": [],
   "source": [
    "X= df_famous.image\n",
    "y=df_famous['PabloPicasso']\n",
    "\n",
    "\n"
   ]
  },
  {
   "cell_type": "code",
   "execution_count": 63,
   "metadata": {},
   "outputs": [],
   "source": [
    "X_train, X_test, y_train, y_test = train_test_split(X, y, random_state=0)"
   ]
  },
  {
   "cell_type": "code",
   "execution_count": 64,
   "metadata": {},
   "outputs": [],
   "source": [
    "X_train = np.array(list(X_train))\n",
    "y_train = to_categorical(np.asarray(y_train.factorize()[0]))"
   ]
  },
  {
   "cell_type": "code",
   "execution_count": 68,
   "metadata": {},
   "outputs": [],
   "source": [
    "def model_2():\n",
    "    \n",
    "    # $CHALLENGIFY_BEGIN\n",
    "    model = Sequential()\n",
    "    model.add(Conv2D(16, (3, 3), activation = 'relu', padding = 'same', input_shape=size))\n",
    "    model.add(MaxPooling2D((2, 2)))\n",
    "    model.add(Dropout(0.2))\n",
    "    model.add(Conv2D(32, (3, 3), activation = 'relu', padding = 'same'))\n",
    "    model.add(MaxPooling2D((2, 2)))\n",
    "    model.add(Dropout(0.2))\n",
    "    model.add(Conv2D(64, (2, 2), activation = 'relu', padding = 'same'))\n",
    "    model.add(Dropout(0.3))\n",
    "    model.add(MaxPooling2D((2, 2)))\n",
    "    \n",
    "    model.add(Flatten())\n",
    "    model.add(Dense(100, activation = 'relu'))\n",
    "    model.add(Dropout(0.4))\n",
    "    model.add(Dense(2, activation = 'sigmoid'))\n",
    "\n",
    "    model.compile(loss='binary_crossentropy',\n",
    "              optimizer='adam', \n",
    "              metrics=['accuracy'])\n",
    "    \n",
    "    # $CHALLENGIFY_END    \n",
    "    \n",
    "    return model"
   ]
  },
  {
   "cell_type": "code",
   "execution_count": 69,
   "metadata": {},
   "outputs": [
    {
     "name": "stdout",
     "output_type": "stream",
     "text": [
      "Epoch 1/50\n",
      "119/119 [==============================] - 2s 10ms/step - loss: 0.2138 - accuracy: 0.9476 - val_loss: 0.3280 - val_accuracy: 0.9418\n",
      "Epoch 2/50\n",
      "119/119 [==============================] - 1s 9ms/step - loss: 0.2064 - accuracy: 0.9531 - val_loss: 0.2736 - val_accuracy: 0.9418\n",
      "Epoch 3/50\n",
      "119/119 [==============================] - 1s 10ms/step - loss: 0.1859 - accuracy: 0.9531 - val_loss: 0.2166 - val_accuracy: 0.9418\n",
      "Epoch 4/50\n",
      "119/119 [==============================] - 1s 9ms/step - loss: 0.1829 - accuracy: 0.9531 - val_loss: 0.2403 - val_accuracy: 0.9418\n",
      "Epoch 5/50\n",
      "119/119 [==============================] - 1s 9ms/step - loss: 0.1703 - accuracy: 0.9531 - val_loss: 0.2117 - val_accuracy: 0.9418\n",
      "Epoch 6/50\n",
      "119/119 [==============================] - 1s 9ms/step - loss: 0.1590 - accuracy: 0.9531 - val_loss: 0.1804 - val_accuracy: 0.9418\n",
      "Epoch 7/50\n",
      "119/119 [==============================] - 1s 9ms/step - loss: 0.1498 - accuracy: 0.9534 - val_loss: 0.1917 - val_accuracy: 0.9418\n",
      "Epoch 8/50\n",
      "119/119 [==============================] - 1s 9ms/step - loss: 0.1569 - accuracy: 0.9534 - val_loss: 0.1822 - val_accuracy: 0.9429\n",
      "Epoch 9/50\n",
      "119/119 [==============================] - 1s 9ms/step - loss: 0.1454 - accuracy: 0.9558 - val_loss: 0.1764 - val_accuracy: 0.9418\n",
      "Epoch 10/50\n",
      "119/119 [==============================] - 1s 9ms/step - loss: 0.1519 - accuracy: 0.9537 - val_loss: 0.2070 - val_accuracy: 0.9418\n",
      "Epoch 11/50\n",
      "119/119 [==============================] - 1s 9ms/step - loss: 0.1398 - accuracy: 0.9582 - val_loss: 0.1773 - val_accuracy: 0.9407\n",
      "Epoch 12/50\n",
      "119/119 [==============================] - 1s 9ms/step - loss: 0.1336 - accuracy: 0.9576 - val_loss: 0.1780 - val_accuracy: 0.9418\n",
      "Epoch 13/50\n",
      "119/119 [==============================] - 1s 10ms/step - loss: 0.1423 - accuracy: 0.9553 - val_loss: 0.1776 - val_accuracy: 0.9418\n"
     ]
    }
   ],
   "source": [
    "model = model_2()\n",
    "history = model.fit(np.array(X_train)/255, y_train,epochs=50,callbacks=[es],verbose=1,batch_size=32, validation_split=0.2)"
   ]
  },
  {
   "cell_type": "code",
   "execution_count": 70,
   "metadata": {},
   "outputs": [
    {
     "data": {
      "text/plain": [
       "(<AxesSubplot:title={'center':'loss'}>,\n",
       " <AxesSubplot:title={'center':'Accuracy'}>)"
      ]
     },
     "execution_count": 70,
     "metadata": {},
     "output_type": "execute_result"
    },
    {
     "data": {
      "image/png": "[encoded data removed]",
      "text/plain": [
       "<Figure size 1200x400 with 2 Axes>"
      ]
     },
     "metadata": {},
     "output_type": "display_data"
    }
   ],
   "source": [
    "plot_history(history)"
   ]
  },
  {
   "cell_type": "code",
   "execution_count": 94,
   "metadata": {},
   "outputs": [],
   "source": [
    "test = np.array([np.array(Image.open('./data/test/100004.jpg').resize(torsize))])\n",
    "                 \n"
   ]
  },
  {
   "cell_type": "code",
   "execution_count": 95,
   "metadata": {},
   "outputs": [
    {
     "name": "stdout",
     "output_type": "stream",
     "text": [
      "1/1 [==============================] - 0s 81ms/step\n"
     ]
    },
    {
     "data": {
      "text/plain": [
       "array([[1.000000e+00, 9.092176e-27]], dtype=float32)"
      ]
     },
     "execution_count": 95,
     "metadata": {},
     "output_type": "execute_result"
    }
   ],
   "source": [
    "model.predict(test)"
   ]
  },
  {
   "cell_type": "markdown",
   "metadata": {},
   "source": [
    "## In test "
   ]
  },
  {
   "cell_type": "code",
   "execution_count": 98,
   "metadata": {},
   "outputs": [
    {
     "data": {
      "text/plain": [
       "array(['train_only', 'train_and_test'], dtype=object)"
      ]
     },
     "execution_count": 98,
     "metadata": {},
     "output_type": "execute_result"
    }
   ],
   "source": [
    "df.artist_group.unique()"
   ]
  },
  {
   "cell_type": "code",
   "execution_count": 97,
   "metadata": {},
   "outputs": [
    {
     "data": {
      "text/html": [
       "<div>\n",
       "<style scoped>\n",
       "    .dataframe tbody tr th:only-of-type {\n",
       "        vertical-align: middle;\n",
       "    }\n",
       "\n",
       "    .dataframe tbody tr th {\n",
       "        vertical-align: top;\n",
       "    }\n",
       "\n",
       "    .dataframe thead th {\n",
       "        text-align: right;\n",
       "    }\n",
       "</style>\n",
       "<table border=\"1\" class=\"dataframe\">\n",
       "  <thead>\n",
       "    <tr style=\"text-align: right;\">\n",
       "      <th></th>\n",
       "      <th>artist</th>\n",
       "      <th>date</th>\n",
       "      <th>genre</th>\n",
       "      <th>pixelsx</th>\n",
       "      <th>pixelsy</th>\n",
       "      <th>size_bytes</th>\n",
       "      <th>source</th>\n",
       "      <th>style</th>\n",
       "      <th>title</th>\n",
       "      <th>artist_group</th>\n",
       "      <th>in_train</th>\n",
       "      <th>new_filename</th>\n",
       "      <th>impath</th>\n",
       "    </tr>\n",
       "  </thead>\n",
       "  <tbody>\n",
       "  </tbody>\n",
       "</table>\n",
       "</div>"
      ],
      "text/plain": [
       "Empty DataFrame\n",
       "Columns: [artist, date, genre, pixelsx, pixelsy, size_bytes, source, style, title, artist_group, in_train, new_filename, impath]\n",
       "Index: []"
      ]
     },
     "execution_count": 97,
     "metadata": {},
     "output_type": "execute_result"
    }
   ],
   "source": [
    "df[df.artist_group=='test_only']"
   ]
  },
  {
   "cell_type": "code",
   "execution_count": null,
   "metadata": {},
   "outputs": [],
   "source": []
  }
 ],
 "metadata": {
  "kernelspec": {
   "display_name": "Python 3.10.6 64-bit ('lewagon')",
   "language": "python",
   "name": "python3"
  },
  "language_info": {
   "codemirror_mode": {
    "name": "ipython",
    "version": 3
   },
   "file_extension": ".py",
   "mimetype": "text/x-python",
   "name": "python",
   "nbconvert_exporter": "python",
   "pygments_lexer": "ipython3",
   "version": "3.10.6"
  },
  "orig_nbformat": 4,
  "vscode": {
   "interpreter": {
    "hash": "715bbb357a0d9ca6e5eb545f84f3c3e51d048468698ed86d54a0571406e75718"
   }
  }
 },
 "nbformat": 4,
 "nbformat_minor": 2
}
