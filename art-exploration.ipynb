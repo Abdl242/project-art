{
 "cells": [
  {
   "cell_type": "code",
   "execution_count": 1,
   "metadata": {},
   "outputs": [],
   "source": [
    "%load_ext autoreload\n",
    "%autoreload 2\n",
    "%matplotlib inline\n",
    "\n",
    "import plotly.express as px\n",
    "import numpy as np\n",
    "import pandas as pd\n",
    "import matplotlib.pyplot as plt\n",
    "import seaborn as sns"
   ]
  },
  {
   "cell_type": "code",
   "execution_count": 2,
   "metadata": {},
   "outputs": [],
   "source": [
    "import glob\n",
    "import random\n",
    "import os\n",
    "from PIL import Image\n",
    "from PIL import ImageFile\n",
    "ImageFile.LOAD_TRUNCATED_IMAGES = True\n",
    "from tensorflow.keras.preprocessing.image import ImageDataGenerator\n",
    "from tensorflow.keras.models import Sequential\n",
    "from  keras.layers import  Dense, Conv2D, MaxPooling2D, Flatten,Dropout\n",
    "from  tensorflow.keras import Input"
   ]
  },
  {
   "cell_type": "code",
   "execution_count": 3,
   "metadata": {},
   "outputs": [],
   "source": [
    "input_image = Input(shape=(100, 100, 3))"
   ]
  },
  {
   "cell_type": "code",
   "execution_count": 4,
   "metadata": {},
   "outputs": [],
   "source": [
    "def prepare_model():\n",
    "    model = Sequential()\n",
    "    model.add(Conv2D(32,kernel_size=(3,3),activation='relu'\n",
    "                     ,input_shape=(100, 100, 3),padding='same'\n",
    "                     )\n",
    "              )\n",
    "    model.add(MaxPooling2D(pool_size=(2, 2)))\n",
    "    model.add(Flatten())\n",
    "    model.add(Dense(16, activation='relu'))\n",
    "    model.add(Dense(2, activation='sigmoid'))\n",
    "    model.compile(loss=\"binary_crossentropy\",optimizer=\"adam\",metrics=['accuracy'])\n",
    "    return model"
   ]
  },
  {
   "cell_type": "code",
   "execution_count": null,
   "metadata": {},
   "outputs": [],
   "source": []
  },
  {
   "cell_type": "code",
   "execution_count": 5,
   "metadata": {},
   "outputs": [
    {
     "data": {
      "text/html": [
       "<div>\n",
       "<style scoped>\n",
       "    .dataframe tbody tr th:only-of-type {\n",
       "        vertical-align: middle;\n",
       "    }\n",
       "\n",
       "    .dataframe tbody tr th {\n",
       "        vertical-align: top;\n",
       "    }\n",
       "\n",
       "    .dataframe thead th {\n",
       "        text-align: right;\n",
       "    }\n",
       "</style>\n",
       "<table border=\"1\" class=\"dataframe\">\n",
       "  <thead>\n",
       "    <tr style=\"text-align: right;\">\n",
       "      <th></th>\n",
       "      <th>artist</th>\n",
       "      <th>date</th>\n",
       "      <th>genre</th>\n",
       "      <th>pixelsx</th>\n",
       "      <th>pixelsy</th>\n",
       "      <th>size_bytes</th>\n",
       "      <th>source</th>\n",
       "      <th>style</th>\n",
       "      <th>title</th>\n",
       "      <th>artist_group</th>\n",
       "      <th>in_train</th>\n",
       "      <th>new_filename</th>\n",
       "    </tr>\n",
       "  </thead>\n",
       "  <tbody>\n",
       "    <tr>\n",
       "      <th>0</th>\n",
       "      <td>Barnett Newman</td>\n",
       "      <td>1955.0</td>\n",
       "      <td>abstract</td>\n",
       "      <td>15530.0</td>\n",
       "      <td>6911.0</td>\n",
       "      <td>9201912.0</td>\n",
       "      <td>wikiart</td>\n",
       "      <td>Color Field Painting</td>\n",
       "      <td>Uriel</td>\n",
       "      <td>train_only</td>\n",
       "      <td>True</td>\n",
       "      <td>102257.jpg</td>\n",
       "    </tr>\n",
       "    <tr>\n",
       "      <th>1</th>\n",
       "      <td>Barnett Newman</td>\n",
       "      <td>1950.0</td>\n",
       "      <td>abstract</td>\n",
       "      <td>14559.0</td>\n",
       "      <td>6866.0</td>\n",
       "      <td>8867532.0</td>\n",
       "      <td>wikiart</td>\n",
       "      <td>Color Field Painting</td>\n",
       "      <td>Vir Heroicus Sublimis</td>\n",
       "      <td>train_only</td>\n",
       "      <td>True</td>\n",
       "      <td>75232.jpg</td>\n",
       "    </tr>\n",
       "    <tr>\n",
       "      <th>2</th>\n",
       "      <td>kiri nichol</td>\n",
       "      <td>2013.0</td>\n",
       "      <td>NaN</td>\n",
       "      <td>9003.0</td>\n",
       "      <td>9004.0</td>\n",
       "      <td>1756681.0</td>\n",
       "      <td>NaN</td>\n",
       "      <td>Neoplasticism</td>\n",
       "      <td>NaN</td>\n",
       "      <td>test_only</td>\n",
       "      <td>False</td>\n",
       "      <td>32145.jpg</td>\n",
       "    </tr>\n",
       "    <tr>\n",
       "      <th>3</th>\n",
       "      <td>kiri nichol</td>\n",
       "      <td>2013.0</td>\n",
       "      <td>NaN</td>\n",
       "      <td>9003.0</td>\n",
       "      <td>9004.0</td>\n",
       "      <td>1942046.0</td>\n",
       "      <td>NaN</td>\n",
       "      <td>Neoplasticism</td>\n",
       "      <td>NaN</td>\n",
       "      <td>test_only</td>\n",
       "      <td>False</td>\n",
       "      <td>20304.jpg</td>\n",
       "    </tr>\n",
       "    <tr>\n",
       "      <th>4</th>\n",
       "      <td>kiri nichol</td>\n",
       "      <td>2013.0</td>\n",
       "      <td>NaN</td>\n",
       "      <td>9003.0</td>\n",
       "      <td>9004.0</td>\n",
       "      <td>1526212.0</td>\n",
       "      <td>NaN</td>\n",
       "      <td>Neoplasticism</td>\n",
       "      <td>NaN</td>\n",
       "      <td>test_only</td>\n",
       "      <td>False</td>\n",
       "      <td>836.jpg</td>\n",
       "    </tr>\n",
       "    <tr>\n",
       "      <th>...</th>\n",
       "      <td>...</td>\n",
       "      <td>...</td>\n",
       "      <td>...</td>\n",
       "      <td>...</td>\n",
       "      <td>...</td>\n",
       "      <td>...</td>\n",
       "      <td>...</td>\n",
       "      <td>...</td>\n",
       "      <td>...</td>\n",
       "      <td>...</td>\n",
       "      <td>...</td>\n",
       "      <td>...</td>\n",
       "    </tr>\n",
       "    <tr>\n",
       "      <th>103245</th>\n",
       "      <td>Jackson Pollock</td>\n",
       "      <td>1948.0</td>\n",
       "      <td>abstract</td>\n",
       "      <td>682.0</td>\n",
       "      <td>220.0</td>\n",
       "      <td>96405.0</td>\n",
       "      <td>wikiart</td>\n",
       "      <td>Action painting</td>\n",
       "      <td>Number 13A (Arabesque)</td>\n",
       "      <td>train_and_test</td>\n",
       "      <td>True</td>\n",
       "      <td>25525.jpg</td>\n",
       "    </tr>\n",
       "    <tr>\n",
       "      <th>103246</th>\n",
       "      <td>Bernardo Strozzi</td>\n",
       "      <td>NaN</td>\n",
       "      <td>religious painting</td>\n",
       "      <td>329.0</td>\n",
       "      <td>456.0</td>\n",
       "      <td>127594.0</td>\n",
       "      <td>wikiart</td>\n",
       "      <td>Baroque</td>\n",
       "      <td>St. Francis of Assisi</td>\n",
       "      <td>train_only</td>\n",
       "      <td>True</td>\n",
       "      <td>47038.jpg</td>\n",
       "    </tr>\n",
       "    <tr>\n",
       "      <th>103247</th>\n",
       "      <td>Josef Sima</td>\n",
       "      <td>NaN</td>\n",
       "      <td>landscape</td>\n",
       "      <td>293.0</td>\n",
       "      <td>512.0</td>\n",
       "      <td>102519.0</td>\n",
       "      <td>wikiart</td>\n",
       "      <td>Surrealism</td>\n",
       "      <td>Maisons à la campagne II</td>\n",
       "      <td>train_and_test</td>\n",
       "      <td>False</td>\n",
       "      <td>7680.jpg</td>\n",
       "    </tr>\n",
       "    <tr>\n",
       "      <th>103248</th>\n",
       "      <td>Brett Whiteley</td>\n",
       "      <td>1982.0</td>\n",
       "      <td>marina</td>\n",
       "      <td>293.0</td>\n",
       "      <td>512.0</td>\n",
       "      <td>167423.0</td>\n",
       "      <td>wikiart</td>\n",
       "      <td>NaN</td>\n",
       "      <td>Thebe's Revenge</td>\n",
       "      <td>train_and_test</td>\n",
       "      <td>True</td>\n",
       "      <td>9021.jpg</td>\n",
       "    </tr>\n",
       "    <tr>\n",
       "      <th>103249</th>\n",
       "      <td>Amadeo de Souza-Cardoso</td>\n",
       "      <td>1913</td>\n",
       "      <td>landscape</td>\n",
       "      <td>293.0</td>\n",
       "      <td>512.0</td>\n",
       "      <td>77577.0</td>\n",
       "      <td>wikiart</td>\n",
       "      <td>Cubism</td>\n",
       "      <td>House Manhufe</td>\n",
       "      <td>train_only</td>\n",
       "      <td>True</td>\n",
       "      <td>36564.jpg</td>\n",
       "    </tr>\n",
       "  </tbody>\n",
       "</table>\n",
       "<p>103250 rows × 12 columns</p>\n",
       "</div>"
      ],
      "text/plain": [
       "                         artist    date               genre  pixelsx  pixelsy  \\\n",
       "0                Barnett Newman  1955.0            abstract  15530.0   6911.0   \n",
       "1                Barnett Newman  1950.0            abstract  14559.0   6866.0   \n",
       "2                   kiri nichol  2013.0                 NaN   9003.0   9004.0   \n",
       "3                   kiri nichol  2013.0                 NaN   9003.0   9004.0   \n",
       "4                   kiri nichol  2013.0                 NaN   9003.0   9004.0   \n",
       "...                         ...     ...                 ...      ...      ...   \n",
       "103245          Jackson Pollock  1948.0            abstract    682.0    220.0   \n",
       "103246         Bernardo Strozzi     NaN  religious painting    329.0    456.0   \n",
       "103247               Josef Sima     NaN           landscape    293.0    512.0   \n",
       "103248           Brett Whiteley  1982.0              marina    293.0    512.0   \n",
       "103249  Amadeo de Souza-Cardoso    1913           landscape    293.0    512.0   \n",
       "\n",
       "        size_bytes   source                 style                     title  \\\n",
       "0        9201912.0  wikiart  Color Field Painting                     Uriel   \n",
       "1        8867532.0  wikiart  Color Field Painting     Vir Heroicus Sublimis   \n",
       "2        1756681.0      NaN         Neoplasticism                       NaN   \n",
       "3        1942046.0      NaN         Neoplasticism                       NaN   \n",
       "4        1526212.0      NaN         Neoplasticism                       NaN   \n",
       "...            ...      ...                   ...                       ...   \n",
       "103245     96405.0  wikiart       Action painting    Number 13A (Arabesque)   \n",
       "103246    127594.0  wikiart               Baroque     St. Francis of Assisi   \n",
       "103247    102519.0  wikiart            Surrealism  Maisons à la campagne II   \n",
       "103248    167423.0  wikiart                   NaN           Thebe's Revenge   \n",
       "103249     77577.0  wikiart                Cubism            House Manhufe    \n",
       "\n",
       "          artist_group  in_train new_filename  \n",
       "0           train_only      True   102257.jpg  \n",
       "1           train_only      True    75232.jpg  \n",
       "2            test_only     False    32145.jpg  \n",
       "3            test_only     False    20304.jpg  \n",
       "4            test_only     False      836.jpg  \n",
       "...                ...       ...          ...  \n",
       "103245  train_and_test      True    25525.jpg  \n",
       "103246      train_only      True    47038.jpg  \n",
       "103247  train_and_test     False     7680.jpg  \n",
       "103248  train_and_test      True     9021.jpg  \n",
       "103249      train_only      True    36564.jpg  \n",
       "\n",
       "[103250 rows x 12 columns]"
      ]
     },
     "execution_count": 5,
     "metadata": {},
     "output_type": "execute_result"
    }
   ],
   "source": [
    "df = pd.read_csv('data/all_data_info.csv')\n",
    "df"
   ]
  },
  {
   "cell_type": "code",
   "execution_count": 6,
   "metadata": {},
   "outputs": [],
   "source": [
    "dataset_paths = glob.glob(\"./data/train/*.jpg\")\n"
   ]
  },
  {
   "cell_type": "code",
   "execution_count": 7,
   "metadata": {},
   "outputs": [],
   "source": [
    "df['impath'] = df.new_filename.map(lambda x : f'./data/train/{x}' if f'./data/train/{x}' in dataset_paths else '' )\n"
   ]
  },
  {
   "cell_type": "code",
   "execution_count": 8,
   "metadata": {},
   "outputs": [],
   "source": [
    "df=df[df['impath']!='']"
   ]
  },
  {
   "cell_type": "code",
   "execution_count": 9,
   "metadata": {},
   "outputs": [],
   "source": [
    "df_samp = df.sample(2000)"
   ]
  },
  {
   "cell_type": "code",
   "execution_count": 10,
   "metadata": {},
   "outputs": [],
   "source": [
    "def open_image(pathim):\n",
    "    try:\n",
    "        return np.array(Image.open(pathim).resize((100,100)))\n",
    "    except:\n",
    "        return ''"
   ]
  },
  {
   "cell_type": "code",
   "execution_count": 11,
   "metadata": {},
   "outputs": [],
   "source": [
    "df_samp['image'] = df_samp.new_filename.map(lambda x : open_image(f'./data/train/{x}'))"
   ]
  },
  {
   "cell_type": "code",
   "execution_count": 12,
   "metadata": {},
   "outputs": [
    {
     "name": "stderr",
     "output_type": "stream",
     "text": [
      "/Users/abdellatif/.pyenv/versions/3.10.6/envs/lewagon/lib/python3.10/site-packages/pandas/core/ops/array_ops.py:73: FutureWarning: elementwise comparison failed; returning scalar instead, but in the future will perform elementwise comparison\n",
      "  result = libops.scalar_compare(x.ravel(), y, op)\n"
     ]
    }
   ],
   "source": [
    "df_samp =df_samp[df_samp['image']!='']"
   ]
  },
  {
   "cell_type": "code",
   "execution_count": 13,
   "metadata": {},
   "outputs": [],
   "source": [
    "df_samp['image_shape'] = df_samp.image.map(lambda x : x.shape )\n",
    "df_samp= df_samp[df_samp['image_shape']==(100, 100, 3)]"
   ]
  },
  {
   "cell_type": "code",
   "execution_count": 14,
   "metadata": {},
   "outputs": [
    {
     "data": {
      "text/plain": [
       "(100, 100, 3)    1974\n",
       "Name: image_shape, dtype: int64"
      ]
     },
     "execution_count": 14,
     "metadata": {},
     "output_type": "execute_result"
    }
   ],
   "source": [
    "df_samp['image_shape'].value_counts()"
   ]
  },
  {
   "cell_type": "code",
   "execution_count": 15,
   "metadata": {},
   "outputs": [],
   "source": [
    "batch_size = 16\n",
    "train_input_shape = (224, 224, 3)"
   ]
  },
  {
   "cell_type": "code",
   "execution_count": 16,
   "metadata": {},
   "outputs": [],
   "source": [
    "X= df_samp.image\n",
    "y=df_samp['artist']"
   ]
  },
  {
   "cell_type": "code",
   "execution_count": 17,
   "metadata": {},
   "outputs": [
    {
     "data": {
      "text/plain": [
       "(1480,)"
      ]
     },
     "execution_count": 17,
     "metadata": {},
     "output_type": "execute_result"
    }
   ],
   "source": [
    "from sklearn.model_selection import train_test_split\n",
    "\n",
    "X_train, X_test, y_train, y_test = train_test_split(X, y, random_state=0)\n",
    "np.shape(X_train)"
   ]
  },
  {
   "cell_type": "code",
   "execution_count": 18,
   "metadata": {},
   "outputs": [],
   "source": [
    "from tensorflow.keras.callbacks import EarlyStopping\n",
    "\n",
    "es = EarlyStopping(\n",
    "    monitor='val_loss',\n",
    "    min_delta=0,\n",
    "    patience=4,\n",
    "    verbose=0,\n",
    "    mode='auto',\n",
    "    baseline=None,\n",
    "    restore_best_weights=True\n",
    ")"
   ]
  },
  {
   "cell_type": "code",
   "execution_count": 19,
   "metadata": {},
   "outputs": [],
   "source": [
    "X_train = np.array(list(X_train))"
   ]
  },
  {
   "cell_type": "code",
   "execution_count": 20,
   "metadata": {},
   "outputs": [],
   "source": [
    "def initialize_model():\n",
    "    \n",
    "    # $CHALLENGIFY_BEGIN\n",
    "    model = Sequential()\n",
    "    model.add(Conv2D(16, (3, 3), activation = 'relu', padding = 'same', input_shape=(100, 100, 3)))\n",
    "    model.add(MaxPooling2D((2, 2)))\n",
    "    model.add(Dropout(0.2))\n",
    "    model.add(Conv2D(32, (3, 3), activation = 'relu', padding = 'same'))\n",
    "    model.add(MaxPooling2D((2, 2)))\n",
    "    model.add(Dropout(0.2))\n",
    "    model.add(Conv2D(64, (2, 2), activation = 'relu', padding = 'same'))\n",
    "    model.add(Dropout(0.3))\n",
    "    model.add(MaxPooling2D((2, 2)))\n",
    "    \n",
    "    model.add(Flatten())\n",
    "    model.add(Dense(100, activation = 'relu'))\n",
    "    model.add(Dropout(0.4))\n",
    "    model.add(Dense(709, activation = 'softmax'))\n",
    "\n",
    "    model.compile(loss='categorical_crossentropy',\n",
    "              optimizer='adam', \n",
    "              metrics=['accuracy'])\n",
    "    \n",
    "    # $CHALLENGIFY_END    \n",
    "    \n",
    "    return model"
   ]
  },
  {
   "cell_type": "code",
   "execution_count": 21,
   "metadata": {},
   "outputs": [],
   "source": [
    "from tensorflow.keras.utils import to_categorical\n",
    "y_train = to_categorical(np.asarray(y_train.factorize()[0]))"
   ]
  },
  {
   "cell_type": "code",
   "execution_count": 22,
   "metadata": {},
   "outputs": [
    {
     "name": "stdout",
     "output_type": "stream",
     "text": [
      "Epoch 1/50\n"
     ]
    },
    {
     "name": "stderr",
     "output_type": "stream",
     "text": [
      "2022-10-19 12:29:52.933828: W tensorflow/core/platform/profile_utils/cpu_utils.cc:128] Failed to get CPU frequency: 0 Hz\n"
     ]
    },
    {
     "ename": "ValueError",
     "evalue": "in user code:\n\n    File \"/Users/abdellatif/.pyenv/versions/3.10.6/envs/lewagon/lib/python3.10/site-packages/keras/engine/training.py\", line 1160, in train_function  *\n        return step_function(self, iterator)\n    File \"/Users/abdellatif/.pyenv/versions/3.10.6/envs/lewagon/lib/python3.10/site-packages/keras/engine/training.py\", line 1146, in step_function  **\n        outputs = model.distribute_strategy.run(run_step, args=(data,))\n    File \"/Users/abdellatif/.pyenv/versions/3.10.6/envs/lewagon/lib/python3.10/site-packages/keras/engine/training.py\", line 1135, in run_step  **\n        outputs = model.train_step(data)\n    File \"/Users/abdellatif/.pyenv/versions/3.10.6/envs/lewagon/lib/python3.10/site-packages/keras/engine/training.py\", line 994, in train_step\n        loss = self.compute_loss(x, y, y_pred, sample_weight)\n    File \"/Users/abdellatif/.pyenv/versions/3.10.6/envs/lewagon/lib/python3.10/site-packages/keras/engine/training.py\", line 1052, in compute_loss\n        return self.compiled_loss(\n    File \"/Users/abdellatif/.pyenv/versions/3.10.6/envs/lewagon/lib/python3.10/site-packages/keras/engine/compile_utils.py\", line 265, in __call__\n        loss_value = loss_obj(y_t, y_p, sample_weight=sw)\n    File \"/Users/abdellatif/.pyenv/versions/3.10.6/envs/lewagon/lib/python3.10/site-packages/keras/losses.py\", line 152, in __call__\n        losses = call_fn(y_true, y_pred)\n    File \"/Users/abdellatif/.pyenv/versions/3.10.6/envs/lewagon/lib/python3.10/site-packages/keras/losses.py\", line 272, in call  **\n        return ag_fn(y_true, y_pred, **self._fn_kwargs)\n    File \"/Users/abdellatif/.pyenv/versions/3.10.6/envs/lewagon/lib/python3.10/site-packages/keras/losses.py\", line 1990, in categorical_crossentropy\n        return backend.categorical_crossentropy(\n    File \"/Users/abdellatif/.pyenv/versions/3.10.6/envs/lewagon/lib/python3.10/site-packages/keras/backend.py\", line 5529, in categorical_crossentropy\n        target.shape.assert_is_compatible_with(output.shape)\n\n    ValueError: Shapes (32, 731) and (32, 709) are incompatible\n",
     "output_type": "error",
     "traceback": [
      "\u001b[0;31m---------------------------------------------------------------------------\u001b[0m",
      "\u001b[0;31mValueError\u001b[0m                                Traceback (most recent call last)",
      "Cell \u001b[0;32mIn [22], line 2\u001b[0m\n\u001b[1;32m      1\u001b[0m model \u001b[38;5;241m=\u001b[39m initialize_model()\n\u001b[0;32m----> 2\u001b[0m \u001b[43mmodel\u001b[49m\u001b[38;5;241;43m.\u001b[39;49m\u001b[43mfit\u001b[49m\u001b[43m(\u001b[49m\u001b[43mnp\u001b[49m\u001b[38;5;241;43m.\u001b[39;49m\u001b[43marray\u001b[49m\u001b[43m(\u001b[49m\u001b[43mX_train\u001b[49m\u001b[43m)\u001b[49m\u001b[38;5;241;43m/\u001b[39;49m\u001b[38;5;241;43m255\u001b[39;49m\u001b[43m,\u001b[49m\u001b[43m \u001b[49m\u001b[43my_train\u001b[49m\u001b[43m,\u001b[49m\u001b[43mepochs\u001b[49m\u001b[38;5;241;43m=\u001b[39;49m\u001b[38;5;241;43m50\u001b[39;49m\u001b[43m,\u001b[49m\u001b[43mcallbacks\u001b[49m\u001b[38;5;241;43m=\u001b[39;49m\u001b[43m[\u001b[49m\u001b[43mes\u001b[49m\u001b[43m]\u001b[49m\u001b[43m,\u001b[49m\u001b[43mverbose\u001b[49m\u001b[38;5;241;43m=\u001b[39;49m\u001b[38;5;241;43m1\u001b[39;49m\u001b[43m,\u001b[49m\u001b[43mbatch_size\u001b[49m\u001b[38;5;241;43m=\u001b[39;49m\u001b[38;5;241;43m32\u001b[39;49m\u001b[43m,\u001b[49m\u001b[43m \u001b[49m\u001b[43mvalidation_split\u001b[49m\u001b[38;5;241;43m=\u001b[39;49m\u001b[38;5;241;43m0.2\u001b[39;49m\u001b[43m)\u001b[49m\n",
      "File \u001b[0;32m~/.pyenv/versions/3.10.6/envs/lewagon/lib/python3.10/site-packages/keras/utils/traceback_utils.py:70\u001b[0m, in \u001b[0;36mfilter_traceback.<locals>.error_handler\u001b[0;34m(*args, **kwargs)\u001b[0m\n\u001b[1;32m     67\u001b[0m     filtered_tb \u001b[39m=\u001b[39m _process_traceback_frames(e\u001b[39m.\u001b[39m__traceback__)\n\u001b[1;32m     68\u001b[0m     \u001b[39m# To get the full stack trace, call:\u001b[39;00m\n\u001b[1;32m     69\u001b[0m     \u001b[39m# `tf.debugging.disable_traceback_filtering()`\u001b[39;00m\n\u001b[0;32m---> 70\u001b[0m     \u001b[39mraise\u001b[39;00m e\u001b[39m.\u001b[39mwith_traceback(filtered_tb) \u001b[39mfrom\u001b[39;00m \u001b[39mNone\u001b[39m\n\u001b[1;32m     71\u001b[0m \u001b[39mfinally\u001b[39;00m:\n\u001b[1;32m     72\u001b[0m     \u001b[39mdel\u001b[39;00m filtered_tb\n",
      "File \u001b[0;32m/var/folders/bs/_70c1r1x1276_9vpf7t82hdr0000gn/T/__autograph_generated_filecjc30zn5.py:15\u001b[0m, in \u001b[0;36mouter_factory.<locals>.inner_factory.<locals>.tf__train_function\u001b[0;34m(iterator)\u001b[0m\n\u001b[1;32m     13\u001b[0m \u001b[39mtry\u001b[39;00m:\n\u001b[1;32m     14\u001b[0m     do_return \u001b[39m=\u001b[39m \u001b[39mTrue\u001b[39;00m\n\u001b[0;32m---> 15\u001b[0m     retval_ \u001b[39m=\u001b[39m ag__\u001b[39m.\u001b[39mconverted_call(ag__\u001b[39m.\u001b[39mld(step_function), (ag__\u001b[39m.\u001b[39mld(\u001b[39mself\u001b[39m), ag__\u001b[39m.\u001b[39mld(iterator)), \u001b[39mNone\u001b[39;00m, fscope)\n\u001b[1;32m     16\u001b[0m \u001b[39mexcept\u001b[39;00m:\n\u001b[1;32m     17\u001b[0m     do_return \u001b[39m=\u001b[39m \u001b[39mFalse\u001b[39;00m\n",
      "\u001b[0;31mValueError\u001b[0m: in user code:\n\n    File \"/Users/abdellatif/.pyenv/versions/3.10.6/envs/lewagon/lib/python3.10/site-packages/keras/engine/training.py\", line 1160, in train_function  *\n        return step_function(self, iterator)\n    File \"/Users/abdellatif/.pyenv/versions/3.10.6/envs/lewagon/lib/python3.10/site-packages/keras/engine/training.py\", line 1146, in step_function  **\n        outputs = model.distribute_strategy.run(run_step, args=(data,))\n    File \"/Users/abdellatif/.pyenv/versions/3.10.6/envs/lewagon/lib/python3.10/site-packages/keras/engine/training.py\", line 1135, in run_step  **\n        outputs = model.train_step(data)\n    File \"/Users/abdellatif/.pyenv/versions/3.10.6/envs/lewagon/lib/python3.10/site-packages/keras/engine/training.py\", line 994, in train_step\n        loss = self.compute_loss(x, y, y_pred, sample_weight)\n    File \"/Users/abdellatif/.pyenv/versions/3.10.6/envs/lewagon/lib/python3.10/site-packages/keras/engine/training.py\", line 1052, in compute_loss\n        return self.compiled_loss(\n    File \"/Users/abdellatif/.pyenv/versions/3.10.6/envs/lewagon/lib/python3.10/site-packages/keras/engine/compile_utils.py\", line 265, in __call__\n        loss_value = loss_obj(y_t, y_p, sample_weight=sw)\n    File \"/Users/abdellatif/.pyenv/versions/3.10.6/envs/lewagon/lib/python3.10/site-packages/keras/losses.py\", line 152, in __call__\n        losses = call_fn(y_true, y_pred)\n    File \"/Users/abdellatif/.pyenv/versions/3.10.6/envs/lewagon/lib/python3.10/site-packages/keras/losses.py\", line 272, in call  **\n        return ag_fn(y_true, y_pred, **self._fn_kwargs)\n    File \"/Users/abdellatif/.pyenv/versions/3.10.6/envs/lewagon/lib/python3.10/site-packages/keras/losses.py\", line 1990, in categorical_crossentropy\n        return backend.categorical_crossentropy(\n    File \"/Users/abdellatif/.pyenv/versions/3.10.6/envs/lewagon/lib/python3.10/site-packages/keras/backend.py\", line 5529, in categorical_crossentropy\n        target.shape.assert_is_compatible_with(output.shape)\n\n    ValueError: Shapes (32, 731) and (32, 709) are incompatible\n"
     ]
    }
   ],
   "source": [
    "model = initialize_model()\n",
    "model.fit(np.array(X_train)/255, y_train,epochs=50,callbacks=[es],verbose=1,batch_size=32, validation_split=0.2)"
   ]
  },
  {
   "cell_type": "code",
   "execution_count": null,
   "metadata": {},
   "outputs": [],
   "source": [
    "test=np.array([np.array(Image.open('./data/train/1541.jpg').resize((100,100)))])"
   ]
  },
  {
   "cell_type": "code",
   "execution_count": null,
   "metadata": {},
   "outputs": [
    {
     "name": "stdout",
     "output_type": "stream",
     "text": [
      "1/1 [==============================] - 0s 64ms/step\n"
     ]
    },
    {
     "data": {
      "text/plain": [
       "array([[0.0022264 , 0.00221044, 0.00223365, 0.00221113, 0.0022467 ,\n",
       "        0.00221189, 0.00220132, 0.00222751, 0.00220606, 0.00222969,\n",
       "        0.00221694, 0.00222416, 0.0022346 , 0.00223442, 0.00222689,\n",
       "        0.00219716, 0.00219623, 0.00224436, 0.0022116 , 0.00221648,\n",
       "        0.00223857, 0.00223644, 0.00221531, 0.0022148 , 0.00224107,\n",
       "        0.00225336, 0.00223638, 0.00222778, 0.00221212, 0.00222775,\n",
       "        0.00219739, 0.0022132 , 0.00223819, 0.00220132, 0.00223726,\n",
       "        0.0022194 , 0.00221804, 0.00223652, 0.00224186, 0.00224166,\n",
       "        0.00222469, 0.0022395 , 0.0022047 , 0.00220929, 0.00223723,\n",
       "        0.0022276 , 0.00224075, 0.00220646, 0.00222774, 0.00223329,\n",
       "        0.00223802, 0.00223324, 0.00219745, 0.00223622, 0.0022338 ,\n",
       "        0.00220657, 0.00223091, 0.00222767, 0.0022276 , 0.00220474,\n",
       "        0.00222822, 0.00222681, 0.00223621, 0.00219733, 0.0022365 ,\n",
       "        0.00221609, 0.00222783, 0.00221838, 0.00224766, 0.00222794,\n",
       "        0.00223314, 0.0022073 , 0.0022033 , 0.00223096, 0.00223028,\n",
       "        0.00220018, 0.002209  , 0.00224484, 0.00221608, 0.0022042 ,\n",
       "        0.00222564, 0.00222511, 0.00221061, 0.00222181, 0.0022139 ,\n",
       "        0.00222146, 0.00221759, 0.00221848, 0.00223083, 0.00223169,\n",
       "        0.00220668, 0.00222678, 0.00222497, 0.00223346, 0.00220206,\n",
       "        0.00219704, 0.00222103, 0.00222056, 0.00224439, 0.00223382,\n",
       "        0.002245  , 0.00221767, 0.00222656, 0.00223656, 0.00223275,\n",
       "        0.00219425, 0.00224685, 0.00223315, 0.00222588, 0.00221849,\n",
       "        0.00221425, 0.00222385, 0.00223514, 0.00221979, 0.00222294,\n",
       "        0.0022221 , 0.00222366, 0.00222173, 0.00224469, 0.0022133 ,\n",
       "        0.00222251, 0.00222036, 0.0022339 , 0.00224398, 0.00222527,\n",
       "        0.00221973, 0.00222233, 0.00221815, 0.00223944, 0.00222324,\n",
       "        0.00221954, 0.0022138 , 0.00222852, 0.00223106, 0.00222558,\n",
       "        0.00221284, 0.00222356, 0.00223575, 0.00224705, 0.00222284,\n",
       "        0.00220124, 0.00220225, 0.002227  , 0.00220751, 0.00222489,\n",
       "        0.00222477, 0.00221212, 0.00224095, 0.00221103, 0.00221917,\n",
       "        0.00222828, 0.00221118, 0.00223099, 0.00222803, 0.00223314,\n",
       "        0.00222596, 0.00221044, 0.00222718, 0.00221   , 0.00222201,\n",
       "        0.00223256, 0.00222126, 0.00222896, 0.00224753, 0.00224564,\n",
       "        0.00223836, 0.00221925, 0.00223402, 0.00223699, 0.00219817,\n",
       "        0.0022162 , 0.00221758, 0.00222715, 0.00222867, 0.0022272 ,\n",
       "        0.0022134 , 0.00222179, 0.00220715, 0.0022092 , 0.00223094,\n",
       "        0.00221535, 0.00221592, 0.00220687, 0.0022466 , 0.00221467,\n",
       "        0.00221051, 0.00222917, 0.0022069 , 0.00223309, 0.00222263,\n",
       "        0.0022065 , 0.00224336, 0.00222201, 0.0022131 , 0.00224462,\n",
       "        0.00224192, 0.00219667, 0.00222907, 0.00222488, 0.00221029,\n",
       "        0.0022294 , 0.00221963, 0.00223364, 0.00224143, 0.00219748,\n",
       "        0.00220367, 0.0021983 , 0.00223346, 0.00223896, 0.00220182,\n",
       "        0.00221084, 0.00220473, 0.0022223 , 0.00220007, 0.00222177,\n",
       "        0.00222824, 0.00223447, 0.0022243 , 0.00221988, 0.00221142,\n",
       "        0.00223824, 0.00220722, 0.0022325 , 0.00223327, 0.00222961,\n",
       "        0.00223105, 0.00219665, 0.00221805, 0.00224678, 0.00220217,\n",
       "        0.00223557, 0.00224781, 0.0022388 , 0.00223462, 0.00223653,\n",
       "        0.00222687, 0.00220619, 0.00220347, 0.00223256, 0.0022332 ,\n",
       "        0.00220563, 0.00220514, 0.00222901, 0.002244  , 0.00224532,\n",
       "        0.00221226, 0.00222831, 0.00221094, 0.00222847, 0.00222392,\n",
       "        0.0022018 , 0.00220433, 0.00220916, 0.00220109, 0.00222013,\n",
       "        0.00220043, 0.00221325, 0.00224342, 0.00219631, 0.00222881,\n",
       "        0.00221063, 0.00222469, 0.00221521, 0.00220399, 0.00222975,\n",
       "        0.00223159, 0.00222222, 0.00222402, 0.00220673, 0.00221168,\n",
       "        0.00220125, 0.00222034, 0.00219502, 0.00220925, 0.00222601,\n",
       "        0.00223597, 0.00223998, 0.00221017, 0.00223195, 0.0022265 ,\n",
       "        0.00222936, 0.00220162, 0.0022137 , 0.0021963 , 0.00222017,\n",
       "        0.00222103, 0.00221512, 0.00222483, 0.00219995, 0.00223309,\n",
       "        0.00221527, 0.00220885, 0.00221425, 0.00219489, 0.00223666,\n",
       "        0.00222706, 0.0022064 , 0.00223806, 0.00220024, 0.00222027,\n",
       "        0.00222316, 0.00222826, 0.00224034, 0.00220484, 0.00220516,\n",
       "        0.0022338 , 0.00221559, 0.00220708, 0.00220245, 0.00221511,\n",
       "        0.00219998, 0.00222598, 0.00221758, 0.00222629, 0.00223638,\n",
       "        0.00219744, 0.00222681, 0.00221139, 0.00220962, 0.00221585,\n",
       "        0.00221904, 0.00221157, 0.00223298, 0.00222955, 0.00220014,\n",
       "        0.00222686, 0.00221268, 0.0022171 , 0.00222219, 0.0022245 ,\n",
       "        0.00222429, 0.00221605, 0.00219971, 0.00220052, 0.00220515,\n",
       "        0.00220271, 0.0022081 , 0.00220178, 0.00221048, 0.00222027,\n",
       "        0.00222635, 0.00222407, 0.00223314, 0.00223637, 0.00222524,\n",
       "        0.00220887, 0.00222397, 0.00221967, 0.00221192, 0.00223467,\n",
       "        0.00219939, 0.0022117 , 0.00219981, 0.00222286, 0.00221952,\n",
       "        0.00221914, 0.00220606, 0.00219545, 0.00220863, 0.00221483,\n",
       "        0.00223098, 0.00220803, 0.00220507, 0.00219565, 0.00221662,\n",
       "        0.00221584, 0.002208  , 0.00220844, 0.00223114, 0.00219496,\n",
       "        0.00223069, 0.00220599, 0.00220354, 0.00221354, 0.00221948,\n",
       "        0.00220955, 0.00221744, 0.00221411, 0.00222244, 0.00221839,\n",
       "        0.00221734, 0.00222175, 0.00220785, 0.00219979, 0.0022311 ,\n",
       "        0.00219663, 0.0022    , 0.00221555, 0.00223494, 0.00222777,\n",
       "        0.00220227, 0.00221519, 0.0022167 , 0.00221983, 0.00221296,\n",
       "        0.00222496, 0.00219179, 0.00219309, 0.00219234, 0.0021946 ,\n",
       "        0.00219192, 0.00219115, 0.00219164, 0.00219172, 0.00219162,\n",
       "        0.00219324, 0.00219391, 0.00219177, 0.0021919 , 0.0021946 ,\n",
       "        0.00219255, 0.00221932, 0.002194  , 0.00219262, 0.00219127,\n",
       "        0.00219212, 0.00219453, 0.00219163, 0.00219207, 0.00219537,\n",
       "        0.00219343, 0.00219183, 0.00219183, 0.00219469, 0.00219192,\n",
       "        0.00219241, 0.00219384, 0.00219148, 0.0021924 , 0.00219218,\n",
       "        0.00219011, 0.00219499, 0.00219333, 0.00219061, 0.00219241,\n",
       "        0.00219293, 0.00219362, 0.00219205, 0.00219255, 0.00219438,\n",
       "        0.00219168, 0.0021959 , 0.00220863, 0.00220045, 0.00219289,\n",
       "        0.00219239, 0.0022031 , 0.00219731, 0.0021934 , 0.00219357,\n",
       "        0.00219315]], dtype=float32)"
      ]
     },
     "execution_count": 141,
     "metadata": {},
     "output_type": "execute_result"
    }
   ],
   "source": [
    "model.predict(test)\n"
   ]
  },
  {
   "cell_type": "markdown",
   "metadata": {},
   "source": [
    "## Limiting to most famous painter"
   ]
  },
  {
   "cell_type": "code",
   "execution_count": 23,
   "metadata": {},
   "outputs": [],
   "source": [
    "famous_artists = list(df.artist.value_counts().head(20).keys())"
   ]
  },
  {
   "cell_type": "code",
   "execution_count": 24,
   "metadata": {},
   "outputs": [],
   "source": [
    "df_famous = df[df.artist.isin(famous_artists)]"
   ]
  },
  {
   "cell_type": "code",
   "execution_count": 25,
   "metadata": {},
   "outputs": [
    {
     "data": {
      "text/html": [
       "<div>\n",
       "<style scoped>\n",
       "    .dataframe tbody tr th:only-of-type {\n",
       "        vertical-align: middle;\n",
       "    }\n",
       "\n",
       "    .dataframe tbody tr th {\n",
       "        vertical-align: top;\n",
       "    }\n",
       "\n",
       "    .dataframe thead th {\n",
       "        text-align: right;\n",
       "    }\n",
       "</style>\n",
       "<table border=\"1\" class=\"dataframe\">\n",
       "  <thead>\n",
       "    <tr style=\"text-align: right;\">\n",
       "      <th></th>\n",
       "      <th>artist</th>\n",
       "      <th>date</th>\n",
       "      <th>genre</th>\n",
       "      <th>pixelsx</th>\n",
       "      <th>pixelsy</th>\n",
       "      <th>size_bytes</th>\n",
       "      <th>source</th>\n",
       "      <th>style</th>\n",
       "      <th>title</th>\n",
       "      <th>artist_group</th>\n",
       "      <th>in_train</th>\n",
       "      <th>new_filename</th>\n",
       "      <th>impath</th>\n",
       "    </tr>\n",
       "  </thead>\n",
       "  <tbody>\n",
       "    <tr>\n",
       "      <th>14</th>\n",
       "      <td>Ivan Aivazovsky</td>\n",
       "      <td>1873</td>\n",
       "      <td>marina</td>\n",
       "      <td>7444.0</td>\n",
       "      <td>5811.0</td>\n",
       "      <td>3189597.0</td>\n",
       "      <td>wikiart</td>\n",
       "      <td>Romanticism</td>\n",
       "      <td>Storm at sea</td>\n",
       "      <td>train_and_test</td>\n",
       "      <td>True</td>\n",
       "      <td>99442.jpg</td>\n",
       "      <td>./data/train/99442.jpg</td>\n",
       "    </tr>\n",
       "    <tr>\n",
       "      <th>28</th>\n",
       "      <td>Gustave Dore</td>\n",
       "      <td>1866</td>\n",
       "      <td>religious painting</td>\n",
       "      <td>4915.0</td>\n",
       "      <td>6068.0</td>\n",
       "      <td>29811319.0</td>\n",
       "      <td>wikiart</td>\n",
       "      <td>Romanticism</td>\n",
       "      <td>Death of Eleazer</td>\n",
       "      <td>train_and_test</td>\n",
       "      <td>True</td>\n",
       "      <td>7486.jpg</td>\n",
       "      <td>./data/train/7486.jpg</td>\n",
       "    </tr>\n",
       "    <tr>\n",
       "      <th>82</th>\n",
       "      <td>Ivan Aivazovsky</td>\n",
       "      <td>1850</td>\n",
       "      <td>marina</td>\n",
       "      <td>5815.0</td>\n",
       "      <td>3840.0</td>\n",
       "      <td>16019462.0</td>\n",
       "      <td>wikiart</td>\n",
       "      <td>Romanticism</td>\n",
       "      <td>The Ninth Wave</td>\n",
       "      <td>train_and_test</td>\n",
       "      <td>True</td>\n",
       "      <td>81750.jpg</td>\n",
       "      <td>./data/train/81750.jpg</td>\n",
       "    </tr>\n",
       "    <tr>\n",
       "      <th>112</th>\n",
       "      <td>Rembrandt</td>\n",
       "      <td>NaN</td>\n",
       "      <td>portrait</td>\n",
       "      <td>4032.0</td>\n",
       "      <td>5008.0</td>\n",
       "      <td>1384905.0</td>\n",
       "      <td>wikiart</td>\n",
       "      <td>Baroque</td>\n",
       "      <td>Lady with a Lap Dog</td>\n",
       "      <td>train_and_test</td>\n",
       "      <td>True</td>\n",
       "      <td>40672.jpg</td>\n",
       "      <td>./data/train/40672.jpg</td>\n",
       "    </tr>\n",
       "    <tr>\n",
       "      <th>147</th>\n",
       "      <td>Edgar Degas</td>\n",
       "      <td>1869</td>\n",
       "      <td>interior</td>\n",
       "      <td>5382.0</td>\n",
       "      <td>3349.0</td>\n",
       "      <td>1824204.0</td>\n",
       "      <td>wikiart</td>\n",
       "      <td>Impressionism</td>\n",
       "      <td>Interior (The Rape)</td>\n",
       "      <td>train_and_test</td>\n",
       "      <td>True</td>\n",
       "      <td>95360.jpg</td>\n",
       "      <td>./data/train/95360.jpg</td>\n",
       "    </tr>\n",
       "    <tr>\n",
       "      <th>...</th>\n",
       "      <td>...</td>\n",
       "      <td>...</td>\n",
       "      <td>...</td>\n",
       "      <td>...</td>\n",
       "      <td>...</td>\n",
       "      <td>...</td>\n",
       "      <td>...</td>\n",
       "      <td>...</td>\n",
       "      <td>...</td>\n",
       "      <td>...</td>\n",
       "      <td>...</td>\n",
       "      <td>...</td>\n",
       "      <td>...</td>\n",
       "    </tr>\n",
       "    <tr>\n",
       "      <th>101111</th>\n",
       "      <td>Pyotr Konchalovsky</td>\n",
       "      <td>1928</td>\n",
       "      <td>flower painting</td>\n",
       "      <td>375.0</td>\n",
       "      <td>450.0</td>\n",
       "      <td>42300.0</td>\n",
       "      <td>wikiart</td>\n",
       "      <td>Post-Impressionism</td>\n",
       "      <td>Still Life. Orchids.</td>\n",
       "      <td>train_and_test</td>\n",
       "      <td>True</td>\n",
       "      <td>84241.jpg</td>\n",
       "      <td>./data/train/84241.jpg</td>\n",
       "    </tr>\n",
       "    <tr>\n",
       "      <th>101112</th>\n",
       "      <td>Pyotr Konchalovsky</td>\n",
       "      <td>1928</td>\n",
       "      <td>cityscape</td>\n",
       "      <td>450.0</td>\n",
       "      <td>375.0</td>\n",
       "      <td>36427.0</td>\n",
       "      <td>wikiart</td>\n",
       "      <td>Post-Impressionism</td>\n",
       "      <td>Novgorod. Kukui Tower.</td>\n",
       "      <td>train_and_test</td>\n",
       "      <td>True</td>\n",
       "      <td>41406.jpg</td>\n",
       "      <td>./data/train/41406.jpg</td>\n",
       "    </tr>\n",
       "    <tr>\n",
       "      <th>101114</th>\n",
       "      <td>Pyotr Konchalovsky</td>\n",
       "      <td>1932</td>\n",
       "      <td>still life</td>\n",
       "      <td>450.0</td>\n",
       "      <td>375.0</td>\n",
       "      <td>51658.0</td>\n",
       "      <td>wikiart</td>\n",
       "      <td>Realism</td>\n",
       "      <td>Still Life with a fly. Every victuals.</td>\n",
       "      <td>train_and_test</td>\n",
       "      <td>True</td>\n",
       "      <td>13943.jpg</td>\n",
       "      <td>./data/train/13943.jpg</td>\n",
       "    </tr>\n",
       "    <tr>\n",
       "      <th>101176</th>\n",
       "      <td>Pyotr Konchalovsky</td>\n",
       "      <td>1908</td>\n",
       "      <td>portrait</td>\n",
       "      <td>374.0</td>\n",
       "      <td>450.0</td>\n",
       "      <td>50917.0</td>\n",
       "      <td>wikiart</td>\n",
       "      <td>Post-Impressionism</td>\n",
       "      <td>Paris. The boy with the apple. (Portrait of Mi...</td>\n",
       "      <td>train_and_test</td>\n",
       "      <td>True</td>\n",
       "      <td>101511.jpg</td>\n",
       "      <td>./data/train/101511.jpg</td>\n",
       "    </tr>\n",
       "    <tr>\n",
       "      <th>101180</th>\n",
       "      <td>Pyotr Konchalovsky</td>\n",
       "      <td>1923</td>\n",
       "      <td>portrait</td>\n",
       "      <td>450.0</td>\n",
       "      <td>374.0</td>\n",
       "      <td>43756.0</td>\n",
       "      <td>wikiart</td>\n",
       "      <td>Realism</td>\n",
       "      <td>The night watchman with a dog (Ivan Payala)</td>\n",
       "      <td>train_and_test</td>\n",
       "      <td>True</td>\n",
       "      <td>48670.jpg</td>\n",
       "      <td>./data/train/48670.jpg</td>\n",
       "    </tr>\n",
       "  </tbody>\n",
       "</table>\n",
       "<p>6453 rows × 13 columns</p>\n",
       "</div>"
      ],
      "text/plain": [
       "                    artist  date               genre  pixelsx  pixelsy  \\\n",
       "14         Ivan Aivazovsky  1873              marina   7444.0   5811.0   \n",
       "28            Gustave Dore  1866  religious painting   4915.0   6068.0   \n",
       "82         Ivan Aivazovsky  1850              marina   5815.0   3840.0   \n",
       "112              Rembrandt   NaN            portrait   4032.0   5008.0   \n",
       "147            Edgar Degas  1869            interior   5382.0   3349.0   \n",
       "...                    ...   ...                 ...      ...      ...   \n",
       "101111  Pyotr Konchalovsky  1928     flower painting    375.0    450.0   \n",
       "101112  Pyotr Konchalovsky  1928           cityscape    450.0    375.0   \n",
       "101114  Pyotr Konchalovsky  1932          still life    450.0    375.0   \n",
       "101176  Pyotr Konchalovsky  1908            portrait    374.0    450.0   \n",
       "101180  Pyotr Konchalovsky  1923            portrait    450.0    374.0   \n",
       "\n",
       "        size_bytes   source               style  \\\n",
       "14       3189597.0  wikiart         Romanticism   \n",
       "28      29811319.0  wikiart         Romanticism   \n",
       "82      16019462.0  wikiart         Romanticism   \n",
       "112      1384905.0  wikiart             Baroque   \n",
       "147      1824204.0  wikiart       Impressionism   \n",
       "...            ...      ...                 ...   \n",
       "101111     42300.0  wikiart  Post-Impressionism   \n",
       "101112     36427.0  wikiart  Post-Impressionism   \n",
       "101114     51658.0  wikiart             Realism   \n",
       "101176     50917.0  wikiart  Post-Impressionism   \n",
       "101180     43756.0  wikiart             Realism   \n",
       "\n",
       "                                                    title    artist_group  \\\n",
       "14                                           Storm at sea  train_and_test   \n",
       "28                                       Death of Eleazer  train_and_test   \n",
       "82                                         The Ninth Wave  train_and_test   \n",
       "112                                   Lady with a Lap Dog  train_and_test   \n",
       "147                                   Interior (The Rape)  train_and_test   \n",
       "...                                                   ...             ...   \n",
       "101111                               Still Life. Orchids.  train_and_test   \n",
       "101112                             Novgorod. Kukui Tower.  train_and_test   \n",
       "101114             Still Life with a fly. Every victuals.  train_and_test   \n",
       "101176  Paris. The boy with the apple. (Portrait of Mi...  train_and_test   \n",
       "101180        The night watchman with a dog (Ivan Payala)  train_and_test   \n",
       "\n",
       "        in_train new_filename                   impath  \n",
       "14          True    99442.jpg   ./data/train/99442.jpg  \n",
       "28          True     7486.jpg    ./data/train/7486.jpg  \n",
       "82          True    81750.jpg   ./data/train/81750.jpg  \n",
       "112         True    40672.jpg   ./data/train/40672.jpg  \n",
       "147         True    95360.jpg   ./data/train/95360.jpg  \n",
       "...          ...          ...                      ...  \n",
       "101111      True    84241.jpg   ./data/train/84241.jpg  \n",
       "101112      True    41406.jpg   ./data/train/41406.jpg  \n",
       "101114      True    13943.jpg   ./data/train/13943.jpg  \n",
       "101176      True   101511.jpg  ./data/train/101511.jpg  \n",
       "101180      True    48670.jpg   ./data/train/48670.jpg  \n",
       "\n",
       "[6453 rows x 13 columns]"
      ]
     },
     "execution_count": 25,
     "metadata": {},
     "output_type": "execute_result"
    }
   ],
   "source": [
    "df_famous"
   ]
  },
  {
   "cell_type": "code",
   "execution_count": 26,
   "metadata": {},
   "outputs": [
    {
     "name": "stderr",
     "output_type": "stream",
     "text": [
      "/var/folders/bs/_70c1r1x1276_9vpf7t82hdr0000gn/T/ipykernel_79729/1592678099.py:1: SettingWithCopyWarning: \n",
      "A value is trying to be set on a copy of a slice from a DataFrame.\n",
      "Try using .loc[row_indexer,col_indexer] = value instead\n",
      "\n",
      "See the caveats in the documentation: https://pandas.pydata.org/pandas-docs/stable/user_guide/indexing.html#returning-a-view-versus-a-copy\n",
      "  df_famous['image'] = df_famous.new_filename.map(lambda x :open_image(f'./data/train/{x}'))\n"
     ]
    }
   ],
   "source": [
    "df_famous['image'] = df_famous.new_filename.map(lambda x :open_image(f'./data/train/{x}'))"
   ]
  },
  {
   "cell_type": "code",
   "execution_count": 27,
   "metadata": {},
   "outputs": [
    {
     "name": "stderr",
     "output_type": "stream",
     "text": [
      "/Users/abdellatif/.pyenv/versions/3.10.6/envs/lewagon/lib/python3.10/site-packages/pandas/core/ops/array_ops.py:73: FutureWarning: elementwise comparison failed; returning scalar instead, but in the future will perform elementwise comparison\n",
      "  result = libops.scalar_compare(x.ravel(), y, op)\n",
      "/var/folders/bs/_70c1r1x1276_9vpf7t82hdr0000gn/T/ipykernel_79729/2245549552.py:2: SettingWithCopyWarning: \n",
      "A value is trying to be set on a copy of a slice from a DataFrame.\n",
      "Try using .loc[row_indexer,col_indexer] = value instead\n",
      "\n",
      "See the caveats in the documentation: https://pandas.pydata.org/pandas-docs/stable/user_guide/indexing.html#returning-a-view-versus-a-copy\n",
      "  df_famous['image_shape'] = df_famous.image.map(lambda x : x.shape )\n"
     ]
    }
   ],
   "source": [
    "df_famous=df_famous[df_famous['image']!='']\n",
    "df_famous['image_shape'] = df_famous.image.map(lambda x : x.shape )\n",
    "df_famous= df_famous[df_famous['image_shape']==(100, 100, 3)]"
   ]
  },
  {
   "cell_type": "code",
   "execution_count": 28,
   "metadata": {},
   "outputs": [],
   "source": [
    "X= df_famous.image\n",
    "y=df_famous['artist']"
   ]
  },
  {
   "cell_type": "code",
   "execution_count": 29,
   "metadata": {},
   "outputs": [],
   "source": [
    "X_train, X_test, y_train, y_test = train_test_split(X, y, random_state=0)"
   ]
  },
  {
   "cell_type": "code",
   "execution_count": 30,
   "metadata": {},
   "outputs": [],
   "source": [
    "X_train = np.array(list(X_train))\n",
    "y_train = to_categorical(np.asarray(y_train.factorize()[0]))"
   ]
  },
  {
   "cell_type": "code",
   "execution_count": 31,
   "metadata": {},
   "outputs": [],
   "source": [
    "def model_20():\n",
    "    \n",
    "    # $CHALLENGIFY_BEGIN\n",
    "    model = Sequential()\n",
    "    model.add(Conv2D(16, (3, 3), activation = 'relu', padding = 'same', input_shape=(100, 100, 3)))\n",
    "    model.add(MaxPooling2D((2, 2)))\n",
    "    model.add(Dropout(0.2))\n",
    "    model.add(Conv2D(32, (3, 3), activation = 'relu', padding = 'same'))\n",
    "    model.add(MaxPooling2D((2, 2)))\n",
    "    model.add(Dropout(0.2))\n",
    "    model.add(Conv2D(64, (2, 2), activation = 'relu', padding = 'same'))\n",
    "    model.add(Dropout(0.3))\n",
    "    model.add(MaxPooling2D((2, 2)))\n",
    "    \n",
    "    model.add(Flatten())\n",
    "    model.add(Dense(100, activation = 'relu'))\n",
    "    model.add(Dropout(0.4))\n",
    "    model.add(Dense(20, activation = 'softmax'))\n",
    "\n",
    "    model.compile(loss='categorical_crossentropy',\n",
    "              optimizer='adam', \n",
    "              metrics=['accuracy'])\n",
    "    \n",
    "    # $CHALLENGIFY_END    \n",
    "    \n",
    "    return model"
   ]
  },
  {
   "cell_type": "code",
   "execution_count": 32,
   "metadata": {},
   "outputs": [
    {
     "name": "stdout",
     "output_type": "stream",
     "text": [
      "Epoch 1/50\n",
      "119/119 [==============================] - 7s 57ms/step - loss: 2.9901 - accuracy: 0.0718 - val_loss: 2.9388 - val_accuracy: 0.1175\n",
      "Epoch 2/50\n",
      "119/119 [==============================] - 7s 57ms/step - loss: 2.8151 - accuracy: 0.1308 - val_loss: 2.7836 - val_accuracy: 0.1979\n",
      "Epoch 3/50\n",
      "119/119 [==============================] - 7s 56ms/step - loss: 2.6817 - accuracy: 0.1861 - val_loss: 2.6762 - val_accuracy: 0.2455\n",
      "Epoch 4/50\n",
      "119/119 [==============================] - 6s 54ms/step - loss: 2.5564 - accuracy: 0.2245 - val_loss: 2.6013 - val_accuracy: 0.2286\n",
      "Epoch 5/50\n",
      "119/119 [==============================] - 6s 54ms/step - loss: 2.4583 - accuracy: 0.2513 - val_loss: 2.4694 - val_accuracy: 0.2804\n",
      "Epoch 6/50\n",
      "119/119 [==============================] - 7s 56ms/step - loss: 2.3763 - accuracy: 0.2671 - val_loss: 2.3786 - val_accuracy: 0.2963\n",
      "Epoch 7/50\n",
      "119/119 [==============================] - 7s 56ms/step - loss: 2.2857 - accuracy: 0.2912 - val_loss: 2.3795 - val_accuracy: 0.3122\n",
      "Epoch 8/50\n",
      "119/119 [==============================] - 6s 53ms/step - loss: 2.2563 - accuracy: 0.2949 - val_loss: 2.3068 - val_accuracy: 0.3312\n",
      "Epoch 9/50\n",
      "119/119 [==============================] - 6s 53ms/step - loss: 2.1827 - accuracy: 0.3132 - val_loss: 2.2971 - val_accuracy: 0.3164\n",
      "Epoch 10/50\n",
      "119/119 [==============================] - 6s 54ms/step - loss: 2.1197 - accuracy: 0.3294 - val_loss: 2.2713 - val_accuracy: 0.3196\n",
      "Epoch 11/50\n",
      "119/119 [==============================] - 6s 52ms/step - loss: 2.1247 - accuracy: 0.3323 - val_loss: 2.2146 - val_accuracy: 0.3481\n",
      "Epoch 12/50\n",
      "119/119 [==============================] - 6s 54ms/step - loss: 2.0390 - accuracy: 0.3524 - val_loss: 2.1983 - val_accuracy: 0.3524\n",
      "Epoch 13/50\n",
      "119/119 [==============================] - 6s 52ms/step - loss: 1.9908 - accuracy: 0.3715 - val_loss: 2.2218 - val_accuracy: 0.3481\n",
      "Epoch 14/50\n",
      "119/119 [==============================] - 7s 56ms/step - loss: 1.9816 - accuracy: 0.3733 - val_loss: 2.1841 - val_accuracy: 0.3566\n",
      "Epoch 15/50\n",
      "119/119 [==============================] - 6s 53ms/step - loss: 1.9083 - accuracy: 0.3887 - val_loss: 2.1967 - val_accuracy: 0.3460\n",
      "Epoch 16/50\n",
      "119/119 [==============================] - 6s 54ms/step - loss: 1.8175 - accuracy: 0.4101 - val_loss: 2.1493 - val_accuracy: 0.3778\n",
      "Epoch 17/50\n",
      "119/119 [==============================] - 8s 65ms/step - loss: 1.7773 - accuracy: 0.4149 - val_loss: 2.1795 - val_accuracy: 0.3503\n",
      "Epoch 18/50\n",
      "119/119 [==============================] - 7s 59ms/step - loss: 1.7520 - accuracy: 0.4308 - val_loss: 2.1368 - val_accuracy: 0.3672\n",
      "Epoch 19/50\n",
      "119/119 [==============================] - 7s 56ms/step - loss: 1.6971 - accuracy: 0.4358 - val_loss: 2.1100 - val_accuracy: 0.3915\n",
      "Epoch 20/50\n",
      "119/119 [==============================] - 6s 52ms/step - loss: 1.6546 - accuracy: 0.4599 - val_loss: 2.0908 - val_accuracy: 0.3862\n",
      "Epoch 21/50\n",
      "119/119 [==============================] - 6s 52ms/step - loss: 1.6209 - accuracy: 0.4745 - val_loss: 2.0852 - val_accuracy: 0.3947\n",
      "Epoch 22/50\n",
      "119/119 [==============================] - 6s 52ms/step - loss: 1.5576 - accuracy: 0.4848 - val_loss: 2.1082 - val_accuracy: 0.3873\n",
      "Epoch 23/50\n",
      "119/119 [==============================] - 6s 51ms/step - loss: 1.5538 - accuracy: 0.4835 - val_loss: 2.1100 - val_accuracy: 0.3873\n",
      "Epoch 24/50\n",
      "119/119 [==============================] - 6s 53ms/step - loss: 1.5203 - accuracy: 0.4943 - val_loss: 2.1355 - val_accuracy: 0.3630\n",
      "Epoch 25/50\n",
      "119/119 [==============================] - 6s 52ms/step - loss: 1.4484 - accuracy: 0.5192 - val_loss: 2.1569 - val_accuracy: 0.3905\n"
     ]
    }
   ],
   "source": [
    "model = model_20()\n",
    "history = model.fit(np.array(X_train)/255, y_train,epochs=50,callbacks=[es],verbose=1,batch_size=32, validation_split=0.2)"
   ]
  },
  {
   "cell_type": "code",
   "execution_count": 33,
   "metadata": {},
   "outputs": [],
   "source": [
    "def plot_history(history, title='', axs=None, exp_name=\"\"):\n",
    "    if axs is not None:\n",
    "        ax1, ax2 = axs\n",
    "    else:\n",
    "        f, (ax1, ax2) = plt.subplots(1, 2, figsize=(12, 4))\n",
    "    \n",
    "    if len(exp_name) > 0 and exp_name[0] != '_':\n",
    "        exp_name = '_' + exp_name\n",
    "    ax1.plot(history.history['loss'], label = 'train' + exp_name)\n",
    "    ax1.plot(history.history['val_loss'], label = 'val' + exp_name)\n",
    "    #ax1.set_ylim(0., 2.2)\n",
    "    ax1.set_title('loss')\n",
    "    ax1.legend()\n",
    "\n",
    "    ax2.plot(history.history['accuracy'], label='train accuracy'  + exp_name)\n",
    "    ax2.plot(history.history['val_accuracy'], label='val accuracy'  + exp_name)\n",
    "    ax2.set_ylim(0.25, 1.)\n",
    "    ax2.set_title('Accuracy')\n",
    "    ax2.legend()\n",
    "    return (ax1, ax2)"
   ]
  },
  {
   "cell_type": "code",
   "execution_count": 34,
   "metadata": {},
   "outputs": [
    {
     "data": {
      "text/plain": [
       "(<AxesSubplot:title={'center':'loss'}>,\n",
       " <AxesSubplot:title={'center':'Accuracy'}>)"
      ]
     },
     "execution_count": 34,
     "metadata": {},
     "output_type": "execute_result"
    },
    {
     "data": {
      "image/png": "[encoded data removed]",
      "text/plain": [
       "<Figure size 1200x400 with 2 Axes>"
      ]
     },
     "metadata": {},
     "output_type": "display_data"
    }
   ],
   "source": [
    "plot_history(history)"
   ]
  },
  {
   "cell_type": "code",
   "execution_count": 35,
   "metadata": {},
   "outputs": [],
   "source": [
    "test = np.array([np.array(Image.open('./data/test/cmonet.jpg').resize((100,100)))])\n"
   ]
  },
  {
   "cell_type": "code",
   "execution_count": 36,
   "metadata": {},
   "outputs": [
    {
     "data": {
      "text/plain": [
       "(1, 100, 100, 3)"
      ]
     },
     "execution_count": 36,
     "metadata": {},
     "output_type": "execute_result"
    }
   ],
   "source": [
    "test.shape"
   ]
  },
  {
   "cell_type": "code",
   "execution_count": 37,
   "metadata": {},
   "outputs": [
    {
     "name": "stdout",
     "output_type": "stream",
     "text": [
      "1/1 [==============================] - 0s 63ms/step\n"
     ]
    },
    {
     "data": {
      "text/plain": [
       "'Theophile Steinlen'"
      ]
     },
     "execution_count": 37,
     "metadata": {},
     "output_type": "execute_result"
    }
   ],
   "source": [
    "famous_artists[np.argmax(model.predict(test))]\n"
   ]
  },
  {
   "cell_type": "code",
   "execution_count": null,
   "metadata": {},
   "outputs": [
    {
     "data": {
      "text/plain": [
       "['Boris Kustodiev',\n",
       " 'Pierre-Auguste Renoir',\n",
       " 'Ilya Repin',\n",
       " 'Claude Monet',\n",
       " 'Pyotr Konchalovsky',\n",
       " 'John Singer Sargent',\n",
       " 'Paul Cezanne',\n",
       " 'Ivan Aivazovsky',\n",
       " 'Odilon Redon',\n",
       " 'Camille Pissarro',\n",
       " 'Paul Gauguin',\n",
       " 'Fernand Leger',\n",
       " 'Eugene Boudin',\n",
       " 'Edgar Degas',\n",
       " 'Albrecht Durer',\n",
       " 'Camille Corot',\n",
       " 'Zdislav Beksinski',\n",
       " 'Marc Chagall',\n",
       " 'Giovanni Battista Piranesi',\n",
       " 'Pablo Picasso']"
      ]
     },
     "execution_count": 106,
     "metadata": {},
     "output_type": "execute_result"
    }
   ],
   "source": [
    "famous_artists"
   ]
  },
  {
   "cell_type": "markdown",
   "metadata": {},
   "source": [
    "## Data augmentation"
   ]
  },
  {
   "cell_type": "code",
   "execution_count": 39,
   "metadata": {},
   "outputs": [
    {
     "data": {
      "text/plain": [
       "<keras.preprocessing.image.ImageDataGenerator at 0x296c87730>"
      ]
     },
     "execution_count": 39,
     "metadata": {},
     "output_type": "execute_result"
    }
   ],
   "source": [
    "\n",
    "datagen = ImageDataGenerator(\n",
    "    featurewise_center = False,\n",
    "    featurewise_std_normalization = False,\n",
    "    rotation_range = 10,\n",
    "    width_shift_range = 0.1,\n",
    "    height_shift_range = 0.1,\n",
    "    horizontal_flip = True,\n",
    "    zoom_range = (0.8, 1.2),\n",
    "    ) \n",
    "\n",
    "datagen.fit(X_train)\n",
    "datagen"
   ]
  },
  {
   "cell_type": "code",
   "execution_count": 44,
   "metadata": {},
   "outputs": [
    {
     "data": {
      "text/plain": [
       "3777.6000000000004"
      ]
     },
     "execution_count": 44,
     "metadata": {},
     "output_type": "execute_result"
    }
   ],
   "source": [
    "len(X_train)*.8"
   ]
  },
  {
   "cell_type": "code",
   "execution_count": 47,
   "metadata": {},
   "outputs": [
    {
     "name": "stdout",
     "output_type": "stream",
     "text": [
      "Epoch 1/50\n",
      "119/119 [==============================] - 9s 65ms/step - loss: 21.5606 - accuracy: 0.0461 - val_loss: 2.9953 - val_accuracy: 0.0476\n",
      "Epoch 2/50\n",
      "119/119 [==============================] - 8s 63ms/step - loss: 2.9983 - accuracy: 0.0532 - val_loss: 2.9950 - val_accuracy: 0.0519\n",
      "Epoch 3/50\n",
      "119/119 [==============================] - 7s 58ms/step - loss: 2.9938 - accuracy: 0.0530 - val_loss: 2.9946 - val_accuracy: 0.0519\n",
      "Epoch 4/50\n",
      "119/119 [==============================] - 7s 58ms/step - loss: 2.9931 - accuracy: 0.0553 - val_loss: 2.9942 - val_accuracy: 0.0519\n",
      "Epoch 5/50\n",
      "119/119 [==============================] - 7s 59ms/step - loss: 2.9925 - accuracy: 0.0553 - val_loss: 2.9941 - val_accuracy: 0.0519\n",
      "Epoch 6/50\n",
      "119/119 [==============================] - 7s 61ms/step - loss: 2.9920 - accuracy: 0.0553 - val_loss: 2.9938 - val_accuracy: 0.0519\n",
      "Epoch 7/50\n",
      "119/119 [==============================] - 8s 64ms/step - loss: 2.9916 - accuracy: 0.0553 - val_loss: 2.9940 - val_accuracy: 0.0519\n",
      "Epoch 8/50\n",
      "119/119 [==============================] - 7s 62ms/step - loss: 2.9913 - accuracy: 0.0540 - val_loss: 2.9941 - val_accuracy: 0.0519\n",
      "Epoch 9/50\n",
      "119/119 [==============================] - 7s 58ms/step - loss: 2.9910 - accuracy: 0.0553 - val_loss: 2.9942 - val_accuracy: 0.0519\n",
      "Epoch 10/50\n",
      "119/119 [==============================] - 7s 60ms/step - loss: 2.9908 - accuracy: 0.0553 - val_loss: 2.9941 - val_accuracy: 0.0519\n"
     ]
    }
   ],
   "source": [
    "X_tr = X_train[:3777]\n",
    "y_tr = y_train[:3777]\n",
    "X_val = X_train[3777:]\n",
    "y_val = y_train[3777:]\n",
    "\n",
    "\n",
    "train_flow = datagen.flow(X_tr, y_tr, batch_size = 32)\n",
    "\n",
    "model = model_20()\n",
    "\n",
    "# The fit\n",
    "history_aug = model.fit(train_flow, \n",
    "                        epochs = 50, \n",
    "                        callbacks = [es], \n",
    "                        validation_data = (X_val, y_val))"
   ]
  },
  {
   "cell_type": "code",
   "execution_count": 46,
   "metadata": {},
   "outputs": [
    {
     "data": {
      "text/plain": [
       "(<AxesSubplot:title={'center':'loss'}>,\n",
       " <AxesSubplot:title={'center':'Accuracy'}>)"
      ]
     },
     "execution_count": 46,
     "metadata": {},
     "output_type": "execute_result"
    },
    {
     "data": {
      "image/png": "[encoded data removed]",
      "text/plain": [
       "<Figure size 1200x400 with 2 Axes>"
      ]
     },
     "metadata": {},
     "output_type": "display_data"
    }
   ],
   "source": [
    "plot_history(history_aug)"
   ]
  },
  {
   "cell_type": "code",
   "execution_count": null,
   "metadata": {},
   "outputs": [],
   "source": []
  }
 ],
 "metadata": {
  "kernelspec": {
   "display_name": "Python 3.10.6 64-bit ('lewagon')",
   "language": "python",
   "name": "python3"
  },
  "language_info": {
   "codemirror_mode": {
    "name": "ipython",
    "version": 3
   },
   "file_extension": ".py",
   "mimetype": "text/x-python",
   "name": "python",
   "nbconvert_exporter": "python",
   "pygments_lexer": "ipython3",
   "version": "3.10.6"
  },
  "orig_nbformat": 4,
  "vscode": {
   "interpreter": {
    "hash": "715bbb357a0d9ca6e5eb545f84f3c3e51d048468698ed86d54a0571406e75718"
   }
  }
 },
 "nbformat": 4,
 "nbformat_minor": 2
}
