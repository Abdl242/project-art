{
 "cells": [
  {
   "cell_type": "code",
   "execution_count": 1,
   "metadata": {},
   "outputs": [],
   "source": [
    "%load_ext autoreload\n",
    "%autoreload 2\n",
    "%matplotlib inline\n",
    "\n",
    "import plotly.express as px\n",
    "import numpy as np\n",
    "import pandas as pd\n",
    "import matplotlib.pyplot as plt\n",
    "import seaborn as sns"
   ]
  },
  {
   "cell_type": "code",
   "execution_count": 49,
   "metadata": {},
   "outputs": [],
   "source": [
    "import glob\n",
    "import random\n",
    "import os\n",
    "from PIL import Image\n",
    "from PIL import ImageFile\n",
    "ImageFile.LOAD_TRUNCATED_IMAGES = True\n",
    "from tensorflow.keras.preprocessing.image import ImageDataGenerator\n",
    "from tensorflow.keras.models import Sequential\n",
    "from  keras.layers import  Dense, Conv2D, MaxPooling2D, Flatten,Dropout\n",
    "from  tensorflow.keras import Input"
   ]
  },
  {
   "cell_type": "code",
   "execution_count": 3,
   "metadata": {},
   "outputs": [],
   "source": [
    "input_image = Input(shape=(100, 100, 3))"
   ]
  },
  {
   "cell_type": "code",
   "execution_count": 4,
   "metadata": {},
   "outputs": [],
   "source": [
    "def prepare_model():\n",
    "    model = Sequential()\n",
    "    model.add(Conv2D(32,kernel_size=(3,3),activation='relu'\n",
    "                     ,input_shape=(100, 100, 3),padding='same'\n",
    "                     )\n",
    "              )\n",
    "    model.add(MaxPooling2D(pool_size=(2, 2)))\n",
    "    model.add(Flatten())\n",
    "    model.add(Dense(16, activation='relu'))\n",
    "    model.add(Dense(2, activation='sigmoid'))\n",
    "    model.compile(loss=\"binary_crossentropy\",optimizer=\"adam\",metrics=['accuracy'])\n",
    "    return model"
   ]
  },
  {
   "cell_type": "code",
   "execution_count": null,
   "metadata": {},
   "outputs": [],
   "source": []
  },
  {
   "cell_type": "code",
   "execution_count": 5,
   "metadata": {},
   "outputs": [
    {
     "data": {
      "text/html": [
       "<div>\n",
       "<style scoped>\n",
       "    .dataframe tbody tr th:only-of-type {\n",
       "        vertical-align: middle;\n",
       "    }\n",
       "\n",
       "    .dataframe tbody tr th {\n",
       "        vertical-align: top;\n",
       "    }\n",
       "\n",
       "    .dataframe thead th {\n",
       "        text-align: right;\n",
       "    }\n",
       "</style>\n",
       "<table border=\"1\" class=\"dataframe\">\n",
       "  <thead>\n",
       "    <tr style=\"text-align: right;\">\n",
       "      <th></th>\n",
       "      <th>artist</th>\n",
       "      <th>date</th>\n",
       "      <th>genre</th>\n",
       "      <th>pixelsx</th>\n",
       "      <th>pixelsy</th>\n",
       "      <th>size_bytes</th>\n",
       "      <th>source</th>\n",
       "      <th>style</th>\n",
       "      <th>title</th>\n",
       "      <th>artist_group</th>\n",
       "      <th>in_train</th>\n",
       "      <th>new_filename</th>\n",
       "    </tr>\n",
       "  </thead>\n",
       "  <tbody>\n",
       "    <tr>\n",
       "      <th>0</th>\n",
       "      <td>Barnett Newman</td>\n",
       "      <td>1955.0</td>\n",
       "      <td>abstract</td>\n",
       "      <td>15530.0</td>\n",
       "      <td>6911.0</td>\n",
       "      <td>9201912.0</td>\n",
       "      <td>wikiart</td>\n",
       "      <td>Color Field Painting</td>\n",
       "      <td>Uriel</td>\n",
       "      <td>train_only</td>\n",
       "      <td>True</td>\n",
       "      <td>102257.jpg</td>\n",
       "    </tr>\n",
       "    <tr>\n",
       "      <th>1</th>\n",
       "      <td>Barnett Newman</td>\n",
       "      <td>1950.0</td>\n",
       "      <td>abstract</td>\n",
       "      <td>14559.0</td>\n",
       "      <td>6866.0</td>\n",
       "      <td>8867532.0</td>\n",
       "      <td>wikiart</td>\n",
       "      <td>Color Field Painting</td>\n",
       "      <td>Vir Heroicus Sublimis</td>\n",
       "      <td>train_only</td>\n",
       "      <td>True</td>\n",
       "      <td>75232.jpg</td>\n",
       "    </tr>\n",
       "    <tr>\n",
       "      <th>2</th>\n",
       "      <td>kiri nichol</td>\n",
       "      <td>2013.0</td>\n",
       "      <td>NaN</td>\n",
       "      <td>9003.0</td>\n",
       "      <td>9004.0</td>\n",
       "      <td>1756681.0</td>\n",
       "      <td>NaN</td>\n",
       "      <td>Neoplasticism</td>\n",
       "      <td>NaN</td>\n",
       "      <td>test_only</td>\n",
       "      <td>False</td>\n",
       "      <td>32145.jpg</td>\n",
       "    </tr>\n",
       "    <tr>\n",
       "      <th>3</th>\n",
       "      <td>kiri nichol</td>\n",
       "      <td>2013.0</td>\n",
       "      <td>NaN</td>\n",
       "      <td>9003.0</td>\n",
       "      <td>9004.0</td>\n",
       "      <td>1942046.0</td>\n",
       "      <td>NaN</td>\n",
       "      <td>Neoplasticism</td>\n",
       "      <td>NaN</td>\n",
       "      <td>test_only</td>\n",
       "      <td>False</td>\n",
       "      <td>20304.jpg</td>\n",
       "    </tr>\n",
       "    <tr>\n",
       "      <th>4</th>\n",
       "      <td>kiri nichol</td>\n",
       "      <td>2013.0</td>\n",
       "      <td>NaN</td>\n",
       "      <td>9003.0</td>\n",
       "      <td>9004.0</td>\n",
       "      <td>1526212.0</td>\n",
       "      <td>NaN</td>\n",
       "      <td>Neoplasticism</td>\n",
       "      <td>NaN</td>\n",
       "      <td>test_only</td>\n",
       "      <td>False</td>\n",
       "      <td>836.jpg</td>\n",
       "    </tr>\n",
       "    <tr>\n",
       "      <th>...</th>\n",
       "      <td>...</td>\n",
       "      <td>...</td>\n",
       "      <td>...</td>\n",
       "      <td>...</td>\n",
       "      <td>...</td>\n",
       "      <td>...</td>\n",
       "      <td>...</td>\n",
       "      <td>...</td>\n",
       "      <td>...</td>\n",
       "      <td>...</td>\n",
       "      <td>...</td>\n",
       "      <td>...</td>\n",
       "    </tr>\n",
       "    <tr>\n",
       "      <th>103245</th>\n",
       "      <td>Jackson Pollock</td>\n",
       "      <td>1948.0</td>\n",
       "      <td>abstract</td>\n",
       "      <td>682.0</td>\n",
       "      <td>220.0</td>\n",
       "      <td>96405.0</td>\n",
       "      <td>wikiart</td>\n",
       "      <td>Action painting</td>\n",
       "      <td>Number 13A (Arabesque)</td>\n",
       "      <td>train_and_test</td>\n",
       "      <td>True</td>\n",
       "      <td>25525.jpg</td>\n",
       "    </tr>\n",
       "    <tr>\n",
       "      <th>103246</th>\n",
       "      <td>Bernardo Strozzi</td>\n",
       "      <td>NaN</td>\n",
       "      <td>religious painting</td>\n",
       "      <td>329.0</td>\n",
       "      <td>456.0</td>\n",
       "      <td>127594.0</td>\n",
       "      <td>wikiart</td>\n",
       "      <td>Baroque</td>\n",
       "      <td>St. Francis of Assisi</td>\n",
       "      <td>train_only</td>\n",
       "      <td>True</td>\n",
       "      <td>47038.jpg</td>\n",
       "    </tr>\n",
       "    <tr>\n",
       "      <th>103247</th>\n",
       "      <td>Josef Sima</td>\n",
       "      <td>NaN</td>\n",
       "      <td>landscape</td>\n",
       "      <td>293.0</td>\n",
       "      <td>512.0</td>\n",
       "      <td>102519.0</td>\n",
       "      <td>wikiart</td>\n",
       "      <td>Surrealism</td>\n",
       "      <td>Maisons à la campagne II</td>\n",
       "      <td>train_and_test</td>\n",
       "      <td>False</td>\n",
       "      <td>7680.jpg</td>\n",
       "    </tr>\n",
       "    <tr>\n",
       "      <th>103248</th>\n",
       "      <td>Brett Whiteley</td>\n",
       "      <td>1982.0</td>\n",
       "      <td>marina</td>\n",
       "      <td>293.0</td>\n",
       "      <td>512.0</td>\n",
       "      <td>167423.0</td>\n",
       "      <td>wikiart</td>\n",
       "      <td>NaN</td>\n",
       "      <td>Thebe's Revenge</td>\n",
       "      <td>train_and_test</td>\n",
       "      <td>True</td>\n",
       "      <td>9021.jpg</td>\n",
       "    </tr>\n",
       "    <tr>\n",
       "      <th>103249</th>\n",
       "      <td>Amadeo de Souza-Cardoso</td>\n",
       "      <td>1913</td>\n",
       "      <td>landscape</td>\n",
       "      <td>293.0</td>\n",
       "      <td>512.0</td>\n",
       "      <td>77577.0</td>\n",
       "      <td>wikiart</td>\n",
       "      <td>Cubism</td>\n",
       "      <td>House Manhufe</td>\n",
       "      <td>train_only</td>\n",
       "      <td>True</td>\n",
       "      <td>36564.jpg</td>\n",
       "    </tr>\n",
       "  </tbody>\n",
       "</table>\n",
       "<p>103250 rows × 12 columns</p>\n",
       "</div>"
      ],
      "text/plain": [
       "                         artist    date               genre  pixelsx  pixelsy  \\\n",
       "0                Barnett Newman  1955.0            abstract  15530.0   6911.0   \n",
       "1                Barnett Newman  1950.0            abstract  14559.0   6866.0   \n",
       "2                   kiri nichol  2013.0                 NaN   9003.0   9004.0   \n",
       "3                   kiri nichol  2013.0                 NaN   9003.0   9004.0   \n",
       "4                   kiri nichol  2013.0                 NaN   9003.0   9004.0   \n",
       "...                         ...     ...                 ...      ...      ...   \n",
       "103245          Jackson Pollock  1948.0            abstract    682.0    220.0   \n",
       "103246         Bernardo Strozzi     NaN  religious painting    329.0    456.0   \n",
       "103247               Josef Sima     NaN           landscape    293.0    512.0   \n",
       "103248           Brett Whiteley  1982.0              marina    293.0    512.0   \n",
       "103249  Amadeo de Souza-Cardoso    1913           landscape    293.0    512.0   \n",
       "\n",
       "        size_bytes   source                 style                     title  \\\n",
       "0        9201912.0  wikiart  Color Field Painting                     Uriel   \n",
       "1        8867532.0  wikiart  Color Field Painting     Vir Heroicus Sublimis   \n",
       "2        1756681.0      NaN         Neoplasticism                       NaN   \n",
       "3        1942046.0      NaN         Neoplasticism                       NaN   \n",
       "4        1526212.0      NaN         Neoplasticism                       NaN   \n",
       "...            ...      ...                   ...                       ...   \n",
       "103245     96405.0  wikiart       Action painting    Number 13A (Arabesque)   \n",
       "103246    127594.0  wikiart               Baroque     St. Francis of Assisi   \n",
       "103247    102519.0  wikiart            Surrealism  Maisons à la campagne II   \n",
       "103248    167423.0  wikiart                   NaN           Thebe's Revenge   \n",
       "103249     77577.0  wikiart                Cubism            House Manhufe    \n",
       "\n",
       "          artist_group  in_train new_filename  \n",
       "0           train_only      True   102257.jpg  \n",
       "1           train_only      True    75232.jpg  \n",
       "2            test_only     False    32145.jpg  \n",
       "3            test_only     False    20304.jpg  \n",
       "4            test_only     False      836.jpg  \n",
       "...                ...       ...          ...  \n",
       "103245  train_and_test      True    25525.jpg  \n",
       "103246      train_only      True    47038.jpg  \n",
       "103247  train_and_test     False     7680.jpg  \n",
       "103248  train_and_test      True     9021.jpg  \n",
       "103249      train_only      True    36564.jpg  \n",
       "\n",
       "[103250 rows x 12 columns]"
      ]
     },
     "execution_count": 5,
     "metadata": {},
     "output_type": "execute_result"
    }
   ],
   "source": [
    "df = pd.read_csv('data/all_data_info.csv')\n",
    "df"
   ]
  },
  {
   "cell_type": "code",
   "execution_count": 6,
   "metadata": {},
   "outputs": [],
   "source": [
    "dataset_paths = glob.glob(\"./data/train/*.jpg\")\n"
   ]
  },
  {
   "cell_type": "code",
   "execution_count": 7,
   "metadata": {},
   "outputs": [],
   "source": [
    "df['impath'] = df.new_filename.map(lambda x : f'./data/train/{x}' if f'./data/train/{x}' in dataset_paths else '' )\n"
   ]
  },
  {
   "cell_type": "code",
   "execution_count": 8,
   "metadata": {},
   "outputs": [],
   "source": [
    "df=df[df['impath']!='']"
   ]
  },
  {
   "cell_type": "code",
   "execution_count": 50,
   "metadata": {},
   "outputs": [],
   "source": [
    "df_samp = df.sample(2000)"
   ]
  },
  {
   "cell_type": "code",
   "execution_count": 51,
   "metadata": {},
   "outputs": [],
   "source": [
    "df_samp['image'] = df_samp.new_filename.map(lambda x :np.array(Image.open(f'./data/train/{x}').resize((100,100))))"
   ]
  },
  {
   "cell_type": "code",
   "execution_count": 52,
   "metadata": {},
   "outputs": [],
   "source": [
    "df_samp['image_shape'] = df_samp.image.map(lambda x : x.shape )\n",
    "df_samp= df_samp[df_samp['image_shape']==(100, 100, 3)]"
   ]
  },
  {
   "cell_type": "code",
   "execution_count": 53,
   "metadata": {},
   "outputs": [
    {
     "data": {
      "text/plain": [
       "(100, 100, 3)    1973\n",
       "Name: image_shape, dtype: int64"
      ]
     },
     "execution_count": 53,
     "metadata": {},
     "output_type": "execute_result"
    }
   ],
   "source": [
    "df_samp['image_shape'].value_counts()"
   ]
  },
  {
   "cell_type": "code",
   "execution_count": 54,
   "metadata": {},
   "outputs": [],
   "source": [
    "batch_size = 16\n",
    "train_input_shape = (224, 224, 3)"
   ]
  },
  {
   "cell_type": "code",
   "execution_count": 55,
   "metadata": {},
   "outputs": [],
   "source": [
    "X= df_samp.image\n",
    "y=df_samp['artist']"
   ]
  },
  {
   "cell_type": "code",
   "execution_count": 58,
   "metadata": {},
   "outputs": [
    {
     "data": {
      "text/plain": [
       "(1479,)"
      ]
     },
     "execution_count": 58,
     "metadata": {},
     "output_type": "execute_result"
    }
   ],
   "source": [
    "from sklearn.model_selection import train_test_split\n",
    "\n",
    "X_train, X_test, y_train, y_test = train_test_split(X, y, random_state=0)\n",
    "np.shape(X_train)"
   ]
  },
  {
   "cell_type": "code",
   "execution_count": 59,
   "metadata": {},
   "outputs": [],
   "source": [
    "from tensorflow.keras.callbacks import EarlyStopping\n",
    "\n",
    "es = EarlyStopping(\n",
    "    monitor='val_loss',\n",
    "    min_delta=0,\n",
    "    patience=4,\n",
    "    verbose=0,\n",
    "    mode='auto',\n",
    "    baseline=None,\n",
    "    restore_best_weights=True\n",
    ")"
   ]
  },
  {
   "cell_type": "code",
   "execution_count": 60,
   "metadata": {},
   "outputs": [],
   "source": [
    "X_train = np.array(list(X_train))"
   ]
  },
  {
   "cell_type": "code",
   "execution_count": 64,
   "metadata": {},
   "outputs": [],
   "source": [
    "def initialize_model():\n",
    "    \n",
    "    # $CHALLENGIFY_BEGIN\n",
    "    model = Sequential()\n",
    "    model.add(Conv2D(16, (3, 3), activation = 'relu', padding = 'same', input_shape=(100, 100, 3)))\n",
    "    model.add(MaxPooling2D((2, 2)))\n",
    "    model.add(Dropout(0.2))\n",
    "    model.add(Conv2D(32, (3, 3), activation = 'relu', padding = 'same'))\n",
    "    model.add(MaxPooling2D((2, 2)))\n",
    "    model.add(Dropout(0.2))\n",
    "    model.add(Conv2D(64, (2, 2), activation = 'relu', padding = 'same'))\n",
    "    model.add(Dropout(0.3))\n",
    "    model.add(MaxPooling2D((2, 2)))\n",
    "    \n",
    "    model.add(Flatten())\n",
    "    model.add(Dense(100, activation = 'relu'))\n",
    "    model.add(Dropout(0.4))\n",
    "    model.add(Dense(709, activation = 'softmax'))\n",
    "\n",
    "    model.compile(loss='categorical_crossentropy',\n",
    "              optimizer='adam', \n",
    "              metrics=['accuracy'])\n",
    "    \n",
    "    # $CHALLENGIFY_END    \n",
    "    \n",
    "    return model"
   ]
  },
  {
   "cell_type": "code",
   "execution_count": 62,
   "metadata": {},
   "outputs": [],
   "source": [
    "from tensorflow.keras.utils import to_categorical\n",
    "y_train = to_categorical(np.asarray(y_train.factorize()[0]))"
   ]
  },
  {
   "cell_type": "code",
   "execution_count": 65,
   "metadata": {},
   "outputs": [
    {
     "name": "stdout",
     "output_type": "stream",
     "text": [
      "Epoch 1/50\n",
      "37/37 [==============================] - 3s 65ms/step - loss: 6.5855 - accuracy: 8.4531e-04 - val_loss: 6.5659 - val_accuracy: 0.0000e+00\n",
      "Epoch 2/50\n",
      "37/37 [==============================] - 2s 57ms/step - loss: 6.5252 - accuracy: 0.0051 - val_loss: 6.5759 - val_accuracy: 0.0101\n",
      "Epoch 3/50\n",
      "37/37 [==============================] - 2s 56ms/step - loss: 6.4471 - accuracy: 0.0042 - val_loss: 6.6067 - val_accuracy: 0.0034\n",
      "Epoch 4/50\n",
      "37/37 [==============================] - 2s 56ms/step - loss: 6.3838 - accuracy: 0.0085 - val_loss: 6.6776 - val_accuracy: 0.0068\n",
      "Epoch 5/50\n",
      "37/37 [==============================] - 2s 56ms/step - loss: 6.3290 - accuracy: 0.0059 - val_loss: 6.7411 - val_accuracy: 0.0000e+00\n"
     ]
    },
    {
     "data": {
      "text/plain": [
       "<keras.callbacks.History at 0x2a594a620>"
      ]
     },
     "execution_count": 65,
     "metadata": {},
     "output_type": "execute_result"
    }
   ],
   "source": [
    "model = initialize_model()\n",
    "model.fit(np.array(X_train)/255, y_train,epochs=50,callbacks=[es],verbose=1,batch_size=32, validation_split=0.2)"
   ]
  },
  {
   "cell_type": "code",
   "execution_count": null,
   "metadata": {},
   "outputs": [],
   "source": [
    "test=np.array([np.array(Image.open('./data/train/1541.jpg').resize((100,100)))])"
   ]
  },
  {
   "cell_type": "code",
   "execution_count": null,
   "metadata": {},
   "outputs": [
    {
     "name": "stdout",
     "output_type": "stream",
     "text": [
      "1/1 [==============================] - 0s 64ms/step\n"
     ]
    },
    {
     "data": {
      "text/plain": [
       "array([[0.0022264 , 0.00221044, 0.00223365, 0.00221113, 0.0022467 ,\n",
       "        0.00221189, 0.00220132, 0.00222751, 0.00220606, 0.00222969,\n",
       "        0.00221694, 0.00222416, 0.0022346 , 0.00223442, 0.00222689,\n",
       "        0.00219716, 0.00219623, 0.00224436, 0.0022116 , 0.00221648,\n",
       "        0.00223857, 0.00223644, 0.00221531, 0.0022148 , 0.00224107,\n",
       "        0.00225336, 0.00223638, 0.00222778, 0.00221212, 0.00222775,\n",
       "        0.00219739, 0.0022132 , 0.00223819, 0.00220132, 0.00223726,\n",
       "        0.0022194 , 0.00221804, 0.00223652, 0.00224186, 0.00224166,\n",
       "        0.00222469, 0.0022395 , 0.0022047 , 0.00220929, 0.00223723,\n",
       "        0.0022276 , 0.00224075, 0.00220646, 0.00222774, 0.00223329,\n",
       "        0.00223802, 0.00223324, 0.00219745, 0.00223622, 0.0022338 ,\n",
       "        0.00220657, 0.00223091, 0.00222767, 0.0022276 , 0.00220474,\n",
       "        0.00222822, 0.00222681, 0.00223621, 0.00219733, 0.0022365 ,\n",
       "        0.00221609, 0.00222783, 0.00221838, 0.00224766, 0.00222794,\n",
       "        0.00223314, 0.0022073 , 0.0022033 , 0.00223096, 0.00223028,\n",
       "        0.00220018, 0.002209  , 0.00224484, 0.00221608, 0.0022042 ,\n",
       "        0.00222564, 0.00222511, 0.00221061, 0.00222181, 0.0022139 ,\n",
       "        0.00222146, 0.00221759, 0.00221848, 0.00223083, 0.00223169,\n",
       "        0.00220668, 0.00222678, 0.00222497, 0.00223346, 0.00220206,\n",
       "        0.00219704, 0.00222103, 0.00222056, 0.00224439, 0.00223382,\n",
       "        0.002245  , 0.00221767, 0.00222656, 0.00223656, 0.00223275,\n",
       "        0.00219425, 0.00224685, 0.00223315, 0.00222588, 0.00221849,\n",
       "        0.00221425, 0.00222385, 0.00223514, 0.00221979, 0.00222294,\n",
       "        0.0022221 , 0.00222366, 0.00222173, 0.00224469, 0.0022133 ,\n",
       "        0.00222251, 0.00222036, 0.0022339 , 0.00224398, 0.00222527,\n",
       "        0.00221973, 0.00222233, 0.00221815, 0.00223944, 0.00222324,\n",
       "        0.00221954, 0.0022138 , 0.00222852, 0.00223106, 0.00222558,\n",
       "        0.00221284, 0.00222356, 0.00223575, 0.00224705, 0.00222284,\n",
       "        0.00220124, 0.00220225, 0.002227  , 0.00220751, 0.00222489,\n",
       "        0.00222477, 0.00221212, 0.00224095, 0.00221103, 0.00221917,\n",
       "        0.00222828, 0.00221118, 0.00223099, 0.00222803, 0.00223314,\n",
       "        0.00222596, 0.00221044, 0.00222718, 0.00221   , 0.00222201,\n",
       "        0.00223256, 0.00222126, 0.00222896, 0.00224753, 0.00224564,\n",
       "        0.00223836, 0.00221925, 0.00223402, 0.00223699, 0.00219817,\n",
       "        0.0022162 , 0.00221758, 0.00222715, 0.00222867, 0.0022272 ,\n",
       "        0.0022134 , 0.00222179, 0.00220715, 0.0022092 , 0.00223094,\n",
       "        0.00221535, 0.00221592, 0.00220687, 0.0022466 , 0.00221467,\n",
       "        0.00221051, 0.00222917, 0.0022069 , 0.00223309, 0.00222263,\n",
       "        0.0022065 , 0.00224336, 0.00222201, 0.0022131 , 0.00224462,\n",
       "        0.00224192, 0.00219667, 0.00222907, 0.00222488, 0.00221029,\n",
       "        0.0022294 , 0.00221963, 0.00223364, 0.00224143, 0.00219748,\n",
       "        0.00220367, 0.0021983 , 0.00223346, 0.00223896, 0.00220182,\n",
       "        0.00221084, 0.00220473, 0.0022223 , 0.00220007, 0.00222177,\n",
       "        0.00222824, 0.00223447, 0.0022243 , 0.00221988, 0.00221142,\n",
       "        0.00223824, 0.00220722, 0.0022325 , 0.00223327, 0.00222961,\n",
       "        0.00223105, 0.00219665, 0.00221805, 0.00224678, 0.00220217,\n",
       "        0.00223557, 0.00224781, 0.0022388 , 0.00223462, 0.00223653,\n",
       "        0.00222687, 0.00220619, 0.00220347, 0.00223256, 0.0022332 ,\n",
       "        0.00220563, 0.00220514, 0.00222901, 0.002244  , 0.00224532,\n",
       "        0.00221226, 0.00222831, 0.00221094, 0.00222847, 0.00222392,\n",
       "        0.0022018 , 0.00220433, 0.00220916, 0.00220109, 0.00222013,\n",
       "        0.00220043, 0.00221325, 0.00224342, 0.00219631, 0.00222881,\n",
       "        0.00221063, 0.00222469, 0.00221521, 0.00220399, 0.00222975,\n",
       "        0.00223159, 0.00222222, 0.00222402, 0.00220673, 0.00221168,\n",
       "        0.00220125, 0.00222034, 0.00219502, 0.00220925, 0.00222601,\n",
       "        0.00223597, 0.00223998, 0.00221017, 0.00223195, 0.0022265 ,\n",
       "        0.00222936, 0.00220162, 0.0022137 , 0.0021963 , 0.00222017,\n",
       "        0.00222103, 0.00221512, 0.00222483, 0.00219995, 0.00223309,\n",
       "        0.00221527, 0.00220885, 0.00221425, 0.00219489, 0.00223666,\n",
       "        0.00222706, 0.0022064 , 0.00223806, 0.00220024, 0.00222027,\n",
       "        0.00222316, 0.00222826, 0.00224034, 0.00220484, 0.00220516,\n",
       "        0.0022338 , 0.00221559, 0.00220708, 0.00220245, 0.00221511,\n",
       "        0.00219998, 0.00222598, 0.00221758, 0.00222629, 0.00223638,\n",
       "        0.00219744, 0.00222681, 0.00221139, 0.00220962, 0.00221585,\n",
       "        0.00221904, 0.00221157, 0.00223298, 0.00222955, 0.00220014,\n",
       "        0.00222686, 0.00221268, 0.0022171 , 0.00222219, 0.0022245 ,\n",
       "        0.00222429, 0.00221605, 0.00219971, 0.00220052, 0.00220515,\n",
       "        0.00220271, 0.0022081 , 0.00220178, 0.00221048, 0.00222027,\n",
       "        0.00222635, 0.00222407, 0.00223314, 0.00223637, 0.00222524,\n",
       "        0.00220887, 0.00222397, 0.00221967, 0.00221192, 0.00223467,\n",
       "        0.00219939, 0.0022117 , 0.00219981, 0.00222286, 0.00221952,\n",
       "        0.00221914, 0.00220606, 0.00219545, 0.00220863, 0.00221483,\n",
       "        0.00223098, 0.00220803, 0.00220507, 0.00219565, 0.00221662,\n",
       "        0.00221584, 0.002208  , 0.00220844, 0.00223114, 0.00219496,\n",
       "        0.00223069, 0.00220599, 0.00220354, 0.00221354, 0.00221948,\n",
       "        0.00220955, 0.00221744, 0.00221411, 0.00222244, 0.00221839,\n",
       "        0.00221734, 0.00222175, 0.00220785, 0.00219979, 0.0022311 ,\n",
       "        0.00219663, 0.0022    , 0.00221555, 0.00223494, 0.00222777,\n",
       "        0.00220227, 0.00221519, 0.0022167 , 0.00221983, 0.00221296,\n",
       "        0.00222496, 0.00219179, 0.00219309, 0.00219234, 0.0021946 ,\n",
       "        0.00219192, 0.00219115, 0.00219164, 0.00219172, 0.00219162,\n",
       "        0.00219324, 0.00219391, 0.00219177, 0.0021919 , 0.0021946 ,\n",
       "        0.00219255, 0.00221932, 0.002194  , 0.00219262, 0.00219127,\n",
       "        0.00219212, 0.00219453, 0.00219163, 0.00219207, 0.00219537,\n",
       "        0.00219343, 0.00219183, 0.00219183, 0.00219469, 0.00219192,\n",
       "        0.00219241, 0.00219384, 0.00219148, 0.0021924 , 0.00219218,\n",
       "        0.00219011, 0.00219499, 0.00219333, 0.00219061, 0.00219241,\n",
       "        0.00219293, 0.00219362, 0.00219205, 0.00219255, 0.00219438,\n",
       "        0.00219168, 0.0021959 , 0.00220863, 0.00220045, 0.00219289,\n",
       "        0.00219239, 0.0022031 , 0.00219731, 0.0021934 , 0.00219357,\n",
       "        0.00219315]], dtype=float32)"
      ]
     },
     "execution_count": 141,
     "metadata": {},
     "output_type": "execute_result"
    }
   ],
   "source": [
    "model.predict(test)\n"
   ]
  },
  {
   "cell_type": "markdown",
   "metadata": {},
   "source": [
    "## Limiting to most famous painter"
   ]
  },
  {
   "cell_type": "code",
   "execution_count": 77,
   "metadata": {},
   "outputs": [],
   "source": [
    "famous_artists = list(df.artist.value_counts().head(20).keys())"
   ]
  },
  {
   "cell_type": "code",
   "execution_count": 78,
   "metadata": {},
   "outputs": [],
   "source": [
    "df_famous = df[df.artist.isin(famous_artists)]"
   ]
  },
  {
   "cell_type": "code",
   "execution_count": 83,
   "metadata": {},
   "outputs": [
    {
     "data": {
      "text/html": [
       "<div>\n",
       "<style scoped>\n",
       "    .dataframe tbody tr th:only-of-type {\n",
       "        vertical-align: middle;\n",
       "    }\n",
       "\n",
       "    .dataframe tbody tr th {\n",
       "        vertical-align: top;\n",
       "    }\n",
       "\n",
       "    .dataframe thead th {\n",
       "        text-align: right;\n",
       "    }\n",
       "</style>\n",
       "<table border=\"1\" class=\"dataframe\">\n",
       "  <thead>\n",
       "    <tr style=\"text-align: right;\">\n",
       "      <th></th>\n",
       "      <th>artist</th>\n",
       "      <th>date</th>\n",
       "      <th>genre</th>\n",
       "      <th>pixelsx</th>\n",
       "      <th>pixelsy</th>\n",
       "      <th>size_bytes</th>\n",
       "      <th>source</th>\n",
       "      <th>style</th>\n",
       "      <th>title</th>\n",
       "      <th>artist_group</th>\n",
       "      <th>in_train</th>\n",
       "      <th>new_filename</th>\n",
       "      <th>impath</th>\n",
       "    </tr>\n",
       "  </thead>\n",
       "  <tbody>\n",
       "    <tr>\n",
       "      <th>54</th>\n",
       "      <td>Odilon Redon</td>\n",
       "      <td>1910</td>\n",
       "      <td>literary painting</td>\n",
       "      <td>4500.0</td>\n",
       "      <td>5738.0</td>\n",
       "      <td>2707505.0</td>\n",
       "      <td>wikiart</td>\n",
       "      <td>Symbolism</td>\n",
       "      <td>Roger and Angelica</td>\n",
       "      <td>train_and_test</td>\n",
       "      <td>True</td>\n",
       "      <td>29331.jpg</td>\n",
       "      <td>./data/train/29331.jpg</td>\n",
       "    </tr>\n",
       "    <tr>\n",
       "      <th>602</th>\n",
       "      <td>Giovanni Battista Piranesi</td>\n",
       "      <td>NaN</td>\n",
       "      <td>cityscape</td>\n",
       "      <td>3893.0</td>\n",
       "      <td>3072.0</td>\n",
       "      <td>3777012.0</td>\n",
       "      <td>wikiart</td>\n",
       "      <td>Neoclassicism</td>\n",
       "      <td>Vedute di Roma</td>\n",
       "      <td>train_and_test</td>\n",
       "      <td>True</td>\n",
       "      <td>11889.jpg</td>\n",
       "      <td>./data/train/11889.jpg</td>\n",
       "    </tr>\n",
       "    <tr>\n",
       "      <th>649</th>\n",
       "      <td>Giovanni Battista Piranesi</td>\n",
       "      <td>NaN</td>\n",
       "      <td>cityscape</td>\n",
       "      <td>3893.0</td>\n",
       "      <td>2979.0</td>\n",
       "      <td>3730701.0</td>\n",
       "      <td>wikiart</td>\n",
       "      <td>Neoclassicism</td>\n",
       "      <td>Vedute di Roma</td>\n",
       "      <td>train_and_test</td>\n",
       "      <td>True</td>\n",
       "      <td>23452.jpg</td>\n",
       "      <td>./data/train/23452.jpg</td>\n",
       "    </tr>\n",
       "    <tr>\n",
       "      <th>697</th>\n",
       "      <td>Giovanni Battista Piranesi</td>\n",
       "      <td>NaN</td>\n",
       "      <td>cityscape</td>\n",
       "      <td>3899.0</td>\n",
       "      <td>2874.0</td>\n",
       "      <td>3882429.0</td>\n",
       "      <td>wikiart</td>\n",
       "      <td>Neoclassicism</td>\n",
       "      <td>Vedute di Roma</td>\n",
       "      <td>train_and_test</td>\n",
       "      <td>True</td>\n",
       "      <td>14108.jpg</td>\n",
       "      <td>./data/train/14108.jpg</td>\n",
       "    </tr>\n",
       "    <tr>\n",
       "      <th>701</th>\n",
       "      <td>Giovanni Battista Piranesi</td>\n",
       "      <td>NaN</td>\n",
       "      <td>design</td>\n",
       "      <td>3879.0</td>\n",
       "      <td>2886.0</td>\n",
       "      <td>3822531.0</td>\n",
       "      <td>wikiart</td>\n",
       "      <td>Neoclassicism</td>\n",
       "      <td>Vedute di Roma</td>\n",
       "      <td>train_and_test</td>\n",
       "      <td>True</td>\n",
       "      <td>29842.jpg</td>\n",
       "      <td>./data/train/29842.jpg</td>\n",
       "    </tr>\n",
       "    <tr>\n",
       "      <th>...</th>\n",
       "      <td>...</td>\n",
       "      <td>...</td>\n",
       "      <td>...</td>\n",
       "      <td>...</td>\n",
       "      <td>...</td>\n",
       "      <td>...</td>\n",
       "      <td>...</td>\n",
       "      <td>...</td>\n",
       "      <td>...</td>\n",
       "      <td>...</td>\n",
       "      <td>...</td>\n",
       "      <td>...</td>\n",
       "      <td>...</td>\n",
       "    </tr>\n",
       "    <tr>\n",
       "      <th>100860</th>\n",
       "      <td>Pyotr Konchalovsky</td>\n",
       "      <td>1897</td>\n",
       "      <td>portrait</td>\n",
       "      <td>379.0</td>\n",
       "      <td>450.0</td>\n",
       "      <td>22860.0</td>\n",
       "      <td>wikiart</td>\n",
       "      <td>Realism</td>\n",
       "      <td>The head of Frenchwoman</td>\n",
       "      <td>train_and_test</td>\n",
       "      <td>True</td>\n",
       "      <td>10635.jpg</td>\n",
       "      <td>./data/train/10635.jpg</td>\n",
       "    </tr>\n",
       "    <tr>\n",
       "      <th>100862</th>\n",
       "      <td>Pyotr Konchalovsky</td>\n",
       "      <td>1911</td>\n",
       "      <td>portrait</td>\n",
       "      <td>379.0</td>\n",
       "      <td>450.0</td>\n",
       "      <td>33240.0</td>\n",
       "      <td>wikiart</td>\n",
       "      <td>Fauvism</td>\n",
       "      <td>Portrait of a historian V. S. Protopopov</td>\n",
       "      <td>train_and_test</td>\n",
       "      <td>True</td>\n",
       "      <td>2788.jpg</td>\n",
       "      <td>./data/train/2788.jpg</td>\n",
       "    </tr>\n",
       "    <tr>\n",
       "      <th>101059</th>\n",
       "      <td>Pyotr Konchalovsky</td>\n",
       "      <td>1930</td>\n",
       "      <td>landscape</td>\n",
       "      <td>376.0</td>\n",
       "      <td>450.0</td>\n",
       "      <td>45003.0</td>\n",
       "      <td>wikiart</td>\n",
       "      <td>Post-Impressionism</td>\n",
       "      <td>Crimea. Cypress.</td>\n",
       "      <td>train_and_test</td>\n",
       "      <td>True</td>\n",
       "      <td>25164.jpg</td>\n",
       "      <td>./data/train/25164.jpg</td>\n",
       "    </tr>\n",
       "    <tr>\n",
       "      <th>101114</th>\n",
       "      <td>Pyotr Konchalovsky</td>\n",
       "      <td>1932</td>\n",
       "      <td>still life</td>\n",
       "      <td>450.0</td>\n",
       "      <td>375.0</td>\n",
       "      <td>51658.0</td>\n",
       "      <td>wikiart</td>\n",
       "      <td>Realism</td>\n",
       "      <td>Still Life with a fly. Every victuals.</td>\n",
       "      <td>train_and_test</td>\n",
       "      <td>True</td>\n",
       "      <td>13943.jpg</td>\n",
       "      <td>./data/train/13943.jpg</td>\n",
       "    </tr>\n",
       "    <tr>\n",
       "      <th>101176</th>\n",
       "      <td>Pyotr Konchalovsky</td>\n",
       "      <td>1908</td>\n",
       "      <td>portrait</td>\n",
       "      <td>374.0</td>\n",
       "      <td>450.0</td>\n",
       "      <td>50917.0</td>\n",
       "      <td>wikiart</td>\n",
       "      <td>Post-Impressionism</td>\n",
       "      <td>Paris. The boy with the apple. (Portrait of Mi...</td>\n",
       "      <td>train_and_test</td>\n",
       "      <td>True</td>\n",
       "      <td>101511.jpg</td>\n",
       "      <td>./data/train/101511.jpg</td>\n",
       "    </tr>\n",
       "  </tbody>\n",
       "</table>\n",
       "<p>1978 rows × 13 columns</p>\n",
       "</div>"
      ],
      "text/plain": [
       "                            artist  date              genre  pixelsx  pixelsy  \\\n",
       "54                    Odilon Redon  1910  literary painting   4500.0   5738.0   \n",
       "602     Giovanni Battista Piranesi   NaN          cityscape   3893.0   3072.0   \n",
       "649     Giovanni Battista Piranesi   NaN          cityscape   3893.0   2979.0   \n",
       "697     Giovanni Battista Piranesi   NaN          cityscape   3899.0   2874.0   \n",
       "701     Giovanni Battista Piranesi   NaN             design   3879.0   2886.0   \n",
       "...                            ...   ...                ...      ...      ...   \n",
       "100860          Pyotr Konchalovsky  1897           portrait    379.0    450.0   \n",
       "100862          Pyotr Konchalovsky  1911           portrait    379.0    450.0   \n",
       "101059          Pyotr Konchalovsky  1930          landscape    376.0    450.0   \n",
       "101114          Pyotr Konchalovsky  1932         still life    450.0    375.0   \n",
       "101176          Pyotr Konchalovsky  1908           portrait    374.0    450.0   \n",
       "\n",
       "        size_bytes   source               style  \\\n",
       "54       2707505.0  wikiart           Symbolism   \n",
       "602      3777012.0  wikiart       Neoclassicism   \n",
       "649      3730701.0  wikiart       Neoclassicism   \n",
       "697      3882429.0  wikiart       Neoclassicism   \n",
       "701      3822531.0  wikiart       Neoclassicism   \n",
       "...            ...      ...                 ...   \n",
       "100860     22860.0  wikiart             Realism   \n",
       "100862     33240.0  wikiart             Fauvism   \n",
       "101059     45003.0  wikiart  Post-Impressionism   \n",
       "101114     51658.0  wikiart             Realism   \n",
       "101176     50917.0  wikiart  Post-Impressionism   \n",
       "\n",
       "                                                    title    artist_group  \\\n",
       "54                                     Roger and Angelica  train_and_test   \n",
       "602                                        Vedute di Roma  train_and_test   \n",
       "649                                        Vedute di Roma  train_and_test   \n",
       "697                                        Vedute di Roma  train_and_test   \n",
       "701                                        Vedute di Roma  train_and_test   \n",
       "...                                                   ...             ...   \n",
       "100860                            The head of Frenchwoman  train_and_test   \n",
       "100862           Portrait of a historian V. S. Protopopov  train_and_test   \n",
       "101059                                   Crimea. Cypress.  train_and_test   \n",
       "101114             Still Life with a fly. Every victuals.  train_and_test   \n",
       "101176  Paris. The boy with the apple. (Portrait of Mi...  train_and_test   \n",
       "\n",
       "        in_train new_filename                   impath  \n",
       "54          True    29331.jpg   ./data/train/29331.jpg  \n",
       "602         True    11889.jpg   ./data/train/11889.jpg  \n",
       "649         True    23452.jpg   ./data/train/23452.jpg  \n",
       "697         True    14108.jpg   ./data/train/14108.jpg  \n",
       "701         True    29842.jpg   ./data/train/29842.jpg  \n",
       "...          ...          ...                      ...  \n",
       "100860      True    10635.jpg   ./data/train/10635.jpg  \n",
       "100862      True     2788.jpg    ./data/train/2788.jpg  \n",
       "101059      True    25164.jpg   ./data/train/25164.jpg  \n",
       "101114      True    13943.jpg   ./data/train/13943.jpg  \n",
       "101176      True   101511.jpg  ./data/train/101511.jpg  \n",
       "\n",
       "[1978 rows x 13 columns]"
      ]
     },
     "execution_count": 83,
     "metadata": {},
     "output_type": "execute_result"
    }
   ],
   "source": [
    "df_famous"
   ]
  },
  {
   "cell_type": "code",
   "execution_count": 84,
   "metadata": {},
   "outputs": [
    {
     "name": "stderr",
     "output_type": "stream",
     "text": [
      "/var/folders/bs/_70c1r1x1276_9vpf7t82hdr0000gn/T/ipykernel_76226/1316566132.py:1: SettingWithCopyWarning: \n",
      "A value is trying to be set on a copy of a slice from a DataFrame.\n",
      "Try using .loc[row_indexer,col_indexer] = value instead\n",
      "\n",
      "See the caveats in the documentation: https://pandas.pydata.org/pandas-docs/stable/user_guide/indexing.html#returning-a-view-versus-a-copy\n",
      "  df_famous['image'] = df_famous.new_filename.map(lambda x :np.array(Image.open(f'./data/train/{x}').resize((100,100))))\n"
     ]
    }
   ],
   "source": [
    "df_famous['image'] = df_famous.new_filename.map(lambda x :np.array(Image.open(f'./data/train/{x}').resize((100,100))))"
   ]
  },
  {
   "cell_type": "code",
   "execution_count": 85,
   "metadata": {},
   "outputs": [
    {
     "name": "stderr",
     "output_type": "stream",
     "text": [
      "/var/folders/bs/_70c1r1x1276_9vpf7t82hdr0000gn/T/ipykernel_76226/1298143965.py:1: SettingWithCopyWarning: \n",
      "A value is trying to be set on a copy of a slice from a DataFrame.\n",
      "Try using .loc[row_indexer,col_indexer] = value instead\n",
      "\n",
      "See the caveats in the documentation: https://pandas.pydata.org/pandas-docs/stable/user_guide/indexing.html#returning-a-view-versus-a-copy\n",
      "  df_famous['image_shape'] = df_famous.image.map(lambda x : x.shape )\n"
     ]
    }
   ],
   "source": [
    "df_famous['image_shape'] = df_famous.image.map(lambda x : x.shape )\n",
    "df_famous= df_famous[df_famous['image_shape']==(100, 100, 3)]"
   ]
  },
  {
   "cell_type": "code",
   "execution_count": 86,
   "metadata": {},
   "outputs": [],
   "source": [
    "X= df_famous.image\n",
    "y=df_famous['artist']"
   ]
  },
  {
   "cell_type": "code",
   "execution_count": 87,
   "metadata": {},
   "outputs": [],
   "source": [
    "X_train, X_test, y_train, y_test = train_test_split(X, y, random_state=0)"
   ]
  },
  {
   "cell_type": "code",
   "execution_count": 88,
   "metadata": {},
   "outputs": [],
   "source": [
    "X_train = np.array(list(X_train))\n",
    "y_train = to_categorical(np.asarray(y_train.factorize()[0]))"
   ]
  },
  {
   "cell_type": "code",
   "execution_count": 89,
   "metadata": {},
   "outputs": [],
   "source": [
    "def model_20():\n",
    "    \n",
    "    # $CHALLENGIFY_BEGIN\n",
    "    model = Sequential()\n",
    "    model.add(Conv2D(16, (3, 3), activation = 'relu', padding = 'same', input_shape=(100, 100, 3)))\n",
    "    model.add(MaxPooling2D((2, 2)))\n",
    "    model.add(Dropout(0.2))\n",
    "    model.add(Conv2D(32, (3, 3), activation = 'relu', padding = 'same'))\n",
    "    model.add(MaxPooling2D((2, 2)))\n",
    "    model.add(Dropout(0.2))\n",
    "    model.add(Conv2D(64, (2, 2), activation = 'relu', padding = 'same'))\n",
    "    model.add(Dropout(0.3))\n",
    "    model.add(MaxPooling2D((2, 2)))\n",
    "    \n",
    "    model.add(Flatten())\n",
    "    model.add(Dense(100, activation = 'relu'))\n",
    "    model.add(Dropout(0.4))\n",
    "    model.add(Dense(20, activation = 'softmax'))\n",
    "\n",
    "    model.compile(loss='categorical_crossentropy',\n",
    "              optimizer='adam', \n",
    "              metrics=['accuracy'])\n",
    "    \n",
    "    # $CHALLENGIFY_END    \n",
    "    \n",
    "    return model"
   ]
  },
  {
   "cell_type": "code",
   "execution_count": 91,
   "metadata": {},
   "outputs": [
    {
     "name": "stdout",
     "output_type": "stream",
     "text": [
      "Epoch 1/50\n",
      "37/37 [==============================] - 3s 74ms/step - loss: 3.0437 - accuracy: 0.0508 - val_loss: 2.9945 - val_accuracy: 0.0541\n",
      "Epoch 2/50\n",
      "37/37 [==============================] - 2s 67ms/step - loss: 2.9693 - accuracy: 0.0864 - val_loss: 2.9737 - val_accuracy: 0.0709\n",
      "Epoch 3/50\n",
      "37/37 [==============================] - 3s 72ms/step - loss: 2.9091 - accuracy: 0.1058 - val_loss: 2.9216 - val_accuracy: 0.1216\n",
      "Epoch 4/50\n",
      "37/37 [==============================] - 3s 72ms/step - loss: 2.8003 - accuracy: 0.1414 - val_loss: 2.8748 - val_accuracy: 0.1655\n",
      "Epoch 5/50\n",
      "37/37 [==============================] - 2s 59ms/step - loss: 2.6969 - accuracy: 0.1600 - val_loss: 2.8052 - val_accuracy: 0.1689\n",
      "Epoch 6/50\n",
      "37/37 [==============================] - 2s 67ms/step - loss: 2.6139 - accuracy: 0.1973 - val_loss: 2.6690 - val_accuracy: 0.2027\n",
      "Epoch 7/50\n",
      "37/37 [==============================] - 2s 65ms/step - loss: 2.4936 - accuracy: 0.2371 - val_loss: 2.6095 - val_accuracy: 0.2297\n",
      "Epoch 8/50\n",
      "37/37 [==============================] - 2s 63ms/step - loss: 2.4298 - accuracy: 0.2439 - val_loss: 2.5570 - val_accuracy: 0.2331\n",
      "Epoch 9/50\n",
      "37/37 [==============================] - 2s 66ms/step - loss: 2.2982 - accuracy: 0.2989 - val_loss: 2.4717 - val_accuracy: 0.3074\n",
      "Epoch 10/50\n",
      "37/37 [==============================] - 3s 76ms/step - loss: 2.2324 - accuracy: 0.3031 - val_loss: 2.4307 - val_accuracy: 0.3074\n",
      "Epoch 11/50\n",
      "37/37 [==============================] - 2s 63ms/step - loss: 2.1307 - accuracy: 0.3412 - val_loss: 2.3461 - val_accuracy: 0.3209\n",
      "Epoch 12/50\n",
      "37/37 [==============================] - 2s 58ms/step - loss: 2.0999 - accuracy: 0.3370 - val_loss: 2.3893 - val_accuracy: 0.2905\n",
      "Epoch 13/50\n",
      "37/37 [==============================] - 2s 67ms/step - loss: 2.0029 - accuracy: 0.3726 - val_loss: 2.3419 - val_accuracy: 0.3108\n",
      "Epoch 14/50\n",
      "37/37 [==============================] - 2s 56ms/step - loss: 1.9569 - accuracy: 0.3963 - val_loss: 2.3335 - val_accuracy: 0.3142\n",
      "Epoch 15/50\n",
      "37/37 [==============================] - 2s 54ms/step - loss: 1.8227 - accuracy: 0.4098 - val_loss: 2.3274 - val_accuracy: 0.3412\n",
      "Epoch 16/50\n",
      "37/37 [==============================] - 2s 56ms/step - loss: 1.7743 - accuracy: 0.4437 - val_loss: 2.3473 - val_accuracy: 0.3243\n",
      "Epoch 17/50\n",
      "37/37 [==============================] - 2s 56ms/step - loss: 1.6824 - accuracy: 0.4437 - val_loss: 2.3241 - val_accuracy: 0.3345\n",
      "Epoch 18/50\n",
      "37/37 [==============================] - 2s 56ms/step - loss: 1.5831 - accuracy: 0.4793 - val_loss: 2.3237 - val_accuracy: 0.3074\n",
      "Epoch 19/50\n",
      "37/37 [==============================] - 2s 58ms/step - loss: 1.5453 - accuracy: 0.5004 - val_loss: 2.3391 - val_accuracy: 0.2905\n",
      "Epoch 20/50\n",
      "37/37 [==============================] - 2s 54ms/step - loss: 1.4469 - accuracy: 0.5224 - val_loss: 2.4051 - val_accuracy: 0.3243\n",
      "Epoch 21/50\n",
      "37/37 [==============================] - 2s 55ms/step - loss: 1.4252 - accuracy: 0.5360 - val_loss: 2.3575 - val_accuracy: 0.3007\n",
      "Epoch 22/50\n",
      "37/37 [==============================] - 2s 56ms/step - loss: 1.3940 - accuracy: 0.5588 - val_loss: 2.4222 - val_accuracy: 0.2973\n"
     ]
    }
   ],
   "source": [
    "model = model_20()\n",
    "history = model.fit(np.array(X_train)/255, y_train,epochs=50,callbacks=[es],verbose=1,batch_size=32, validation_split=0.2)"
   ]
  },
  {
   "cell_type": "code",
   "execution_count": 92,
   "metadata": {},
   "outputs": [],
   "source": [
    "def plot_history(history, title='', axs=None, exp_name=\"\"):\n",
    "    if axs is not None:\n",
    "        ax1, ax2 = axs\n",
    "    else:\n",
    "        f, (ax1, ax2) = plt.subplots(1, 2, figsize=(12, 4))\n",
    "    \n",
    "    if len(exp_name) > 0 and exp_name[0] != '_':\n",
    "        exp_name = '_' + exp_name\n",
    "    ax1.plot(history.history['loss'], label = 'train' + exp_name)\n",
    "    ax1.plot(history.history['val_loss'], label = 'val' + exp_name)\n",
    "    ax1.set_ylim(0., 2.2)\n",
    "    ax1.set_title('loss')\n",
    "    ax1.legend()\n",
    "\n",
    "    ax2.plot(history.history['accuracy'], label='train accuracy'  + exp_name)\n",
    "    ax2.plot(history.history['val_accuracy'], label='val accuracy'  + exp_name)\n",
    "    ax2.set_ylim(0.25, 1.)\n",
    "    ax2.set_title('Accuracy')\n",
    "    ax2.legend()\n",
    "    return (ax1, ax2)"
   ]
  },
  {
   "cell_type": "code",
   "execution_count": 93,
   "metadata": {},
   "outputs": [
    {
     "data": {
      "text/plain": [
       "(<AxesSubplot:title={'center':'loss'}>,\n",
       " <AxesSubplot:title={'center':'Accuracy'}>)"
      ]
     },
     "execution_count": 93,
     "metadata": {},
     "output_type": "execute_result"
    },
    {
     "data": {
      "image/png": "[encoded data removed]",
      "text/plain": [
       "<Figure size 1200x400 with 2 Axes>"
      ]
     },
     "metadata": {},
     "output_type": "display_data"
    }
   ],
   "source": [
    "plot_history(history)"
   ]
  },
  {
   "cell_type": "code",
   "execution_count": null,
   "metadata": {},
   "outputs": [],
   "source": []
  }
 ],
 "metadata": {
  "kernelspec": {
   "display_name": "Python 3.10.6 64-bit ('shims')",
   "language": "python",
   "name": "python3"
  },
  "language_info": {
   "codemirror_mode": {
    "name": "ipython",
    "version": 3
   },
   "file_extension": ".py",
   "mimetype": "text/x-python",
   "name": "python",
   "nbconvert_exporter": "python",
   "pygments_lexer": "ipython3",
   "version": "3.10.6"
  },
  "orig_nbformat": 4,
  "vscode": {
   "interpreter": {
    "hash": "95c15f9abd36d7d4733f1af8b57f4f3116cf5a32dbbd91f76591a62b29275cb9"
   }
  }
 },
 "nbformat": 4,
 "nbformat_minor": 2
}
